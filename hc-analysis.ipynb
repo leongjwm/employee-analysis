{
 "cells": [
  {
   "cell_type": "markdown",
   "metadata": {},
   "source": [
    "# Top 3 Insights from Analysis of Human Capital Data\n",
    "\n",
    "In this project, I will pretend to be a data analyst in an insurance company; the dataset I will be using is a dummy file which contains the details of all employees in the company. My goal of analysing this dataset is to find the top 3 insights which might benefit the company."
   ]
  },
  {
   "cell_type": "markdown",
   "metadata": {},
   "source": [
    "- [Importing of Libraries](#lib_imports)\n",
    "- [Exploration of our Data](#data_exploration)\n",
    "- [Data Cleaning](#data_cleaning)\n",
    "- [Exploratory Data Analysis and Data Visualisation](#eda_dataviz)\n",
    "- [Conclusion](#conclusion)"
   ]
  },
  {
   "cell_type": "markdown",
   "metadata": {},
   "source": [
    "<a id='lib_imports'></a>\n",
    "\n",
    "### Importing of Libraries"
   ]
  },
  {
   "cell_type": "code",
   "execution_count": 1,
   "metadata": {},
   "outputs": [],
   "source": [
    "import pandas as pd                # Python Panel DataFrames\n",
    "import numpy as np\n",
    "import matplotlib                  # 2D Plotting Library\n",
    "import matplotlib.pyplot as plt\n",
    "import seaborn as sns              # Python Data Visualization Library based on matplotlib\n",
    "import datetime\n",
    "import warnings\n",
    "warnings.filterwarnings('ignore')\n",
    "from dateutil.relativedelta import relativedelta\n",
    "%matplotlib inline"
   ]
  },
  {
   "cell_type": "markdown",
   "metadata": {},
   "source": [
    "### Reading in the data"
   ]
  },
  {
   "cell_type": "code",
   "execution_count": 2,
   "metadata": {},
   "outputs": [],
   "source": [
    "df = pd.read_excel(\"insurance_dataset.xlsx\")"
   ]
  },
  {
   "cell_type": "code",
   "execution_count": 3,
   "metadata": {},
   "outputs": [
    {
     "data": {
      "text/html": [
       "<div>\n",
       "<style scoped>\n",
       "    .dataframe tbody tr th:only-of-type {\n",
       "        vertical-align: middle;\n",
       "    }\n",
       "\n",
       "    .dataframe tbody tr th {\n",
       "        vertical-align: top;\n",
       "    }\n",
       "\n",
       "    .dataframe thead th {\n",
       "        text-align: right;\n",
       "    }\n",
       "</style>\n",
       "<table border=\"1\" class=\"dataframe\">\n",
       "  <thead>\n",
       "    <tr style=\"text-align: right;\">\n",
       "      <th></th>\n",
       "      <th>Status</th>\n",
       "      <th>Name</th>\n",
       "      <th>Gender</th>\n",
       "      <th>Department</th>\n",
       "      <th>Salary (2019)</th>\n",
       "      <th>Salary (2020)</th>\n",
       "      <th>Birth date</th>\n",
       "      <th>Joining Date</th>\n",
       "      <th>Resign Date</th>\n",
       "      <th>Designation</th>\n",
       "      <th>Education Level</th>\n",
       "      <th>Employee Grouping</th>\n",
       "      <th>Nationality</th>\n",
       "    </tr>\n",
       "  </thead>\n",
       "  <tbody>\n",
       "    <tr>\n",
       "      <th>0</th>\n",
       "      <td>Resigned</td>\n",
       "      <td>Ches Bonnell</td>\n",
       "      <td>Male</td>\n",
       "      <td>Business Development</td>\n",
       "      <td>88050</td>\n",
       "      <td>NaN</td>\n",
       "      <td>1999-11-18</td>\n",
       "      <td>2017-11-24</td>\n",
       "      <td>2019-06-23</td>\n",
       "      <td>Associate</td>\n",
       "      <td>Degree</td>\n",
       "      <td>Agencies</td>\n",
       "      <td>Singaporean</td>\n",
       "    </tr>\n",
       "    <tr>\n",
       "      <th>1</th>\n",
       "      <td>NaN</td>\n",
       "      <td>Garwin Peasegood</td>\n",
       "      <td>Female</td>\n",
       "      <td>Services</td>\n",
       "      <td>64809</td>\n",
       "      <td>68220.0</td>\n",
       "      <td>1969-09-14</td>\n",
       "      <td>2011-06-27</td>\n",
       "      <td>NaT</td>\n",
       "      <td>Associate</td>\n",
       "      <td>Degree</td>\n",
       "      <td>Direct Contract</td>\n",
       "      <td>Singaporean</td>\n",
       "    </tr>\n",
       "    <tr>\n",
       "      <th>2</th>\n",
       "      <td>NaN</td>\n",
       "      <td>Sidoney Yitzhok</td>\n",
       "      <td>Female</td>\n",
       "      <td>Product Management</td>\n",
       "      <td>115479</td>\n",
       "      <td>118440.0</td>\n",
       "      <td>2000-10-26</td>\n",
       "      <td>2011-09-20</td>\n",
       "      <td>NaT</td>\n",
       "      <td>Ass. Manager</td>\n",
       "      <td>Master</td>\n",
       "      <td>Direct Contract</td>\n",
       "      <td>Singaporean</td>\n",
       "    </tr>\n",
       "    <tr>\n",
       "      <th>3</th>\n",
       "      <td>NaN</td>\n",
       "      <td>Saunders Blumson</td>\n",
       "      <td>Male</td>\n",
       "      <td>Human Resources</td>\n",
       "      <td>54961</td>\n",
       "      <td>56370.0</td>\n",
       "      <td>1974-02-16</td>\n",
       "      <td>2015-12-11</td>\n",
       "      <td>NaT</td>\n",
       "      <td>Director</td>\n",
       "      <td>Diploma</td>\n",
       "      <td>Direct Contract</td>\n",
       "      <td>Singaporean</td>\n",
       "    </tr>\n",
       "    <tr>\n",
       "      <th>4</th>\n",
       "      <td>NaN</td>\n",
       "      <td>Gardy Grigorey</td>\n",
       "      <td>Female</td>\n",
       "      <td>Support</td>\n",
       "      <td>100665</td>\n",
       "      <td>107090.0</td>\n",
       "      <td>1981-01-16</td>\n",
       "      <td>2015-08-05</td>\n",
       "      <td>NaT</td>\n",
       "      <td>Director</td>\n",
       "      <td>Diploma</td>\n",
       "      <td>Permanent</td>\n",
       "      <td>Foreigner</td>\n",
       "    </tr>\n",
       "  </tbody>\n",
       "</table>\n",
       "</div>"
      ],
      "text/plain": [
       "     Status              Name  Gender            Department  Salary (2019)  \\\n",
       "0  Resigned      Ches Bonnell    Male  Business Development          88050   \n",
       "1       NaN  Garwin Peasegood  Female              Services          64809   \n",
       "2       NaN   Sidoney Yitzhok  Female    Product Management         115479   \n",
       "3       NaN  Saunders Blumson    Male       Human Resources          54961   \n",
       "4       NaN    Gardy Grigorey  Female               Support         100665   \n",
       "\n",
       "   Salary (2020) Birth date Joining Date Resign Date   Designation  \\\n",
       "0            NaN 1999-11-18   2017-11-24  2019-06-23     Associate   \n",
       "1        68220.0 1969-09-14   2011-06-27         NaT     Associate   \n",
       "2       118440.0 2000-10-26   2011-09-20         NaT  Ass. Manager   \n",
       "3        56370.0 1974-02-16   2015-12-11         NaT      Director   \n",
       "4       107090.0 1981-01-16   2015-08-05         NaT      Director   \n",
       "\n",
       "  Education Level Employee Grouping  Nationality  \n",
       "0          Degree          Agencies  Singaporean  \n",
       "1          Degree   Direct Contract  Singaporean  \n",
       "2          Master   Direct Contract  Singaporean  \n",
       "3         Diploma   Direct Contract  Singaporean  \n",
       "4         Diploma         Permanent    Foreigner  "
      ]
     },
     "execution_count": 3,
     "metadata": {},
     "output_type": "execute_result"
    }
   ],
   "source": [
    "df.head()"
   ]
  },
  {
   "cell_type": "code",
   "execution_count": 4,
   "metadata": {},
   "outputs": [
    {
     "data": {
      "text/html": [
       "<div>\n",
       "<style scoped>\n",
       "    .dataframe tbody tr th:only-of-type {\n",
       "        vertical-align: middle;\n",
       "    }\n",
       "\n",
       "    .dataframe tbody tr th {\n",
       "        vertical-align: top;\n",
       "    }\n",
       "\n",
       "    .dataframe thead th {\n",
       "        text-align: right;\n",
       "    }\n",
       "</style>\n",
       "<table border=\"1\" class=\"dataframe\">\n",
       "  <thead>\n",
       "    <tr style=\"text-align: right;\">\n",
       "      <th></th>\n",
       "      <th>Status</th>\n",
       "      <th>Name</th>\n",
       "      <th>Gender</th>\n",
       "      <th>Department</th>\n",
       "      <th>Salary (2019)</th>\n",
       "      <th>Salary (2020)</th>\n",
       "      <th>Birth date</th>\n",
       "      <th>Joining Date</th>\n",
       "      <th>Resign Date</th>\n",
       "      <th>Designation</th>\n",
       "      <th>Education Level</th>\n",
       "      <th>Employee Grouping</th>\n",
       "      <th>Nationality</th>\n",
       "    </tr>\n",
       "  </thead>\n",
       "  <tbody>\n",
       "    <tr>\n",
       "      <th>294</th>\n",
       "      <td>NaN</td>\n",
       "      <td>Durand Backhouse</td>\n",
       "      <td>Female</td>\n",
       "      <td>Legal</td>\n",
       "      <td>78396</td>\n",
       "      <td>83400.0</td>\n",
       "      <td>1969-09-10</td>\n",
       "      <td>2012-07-16</td>\n",
       "      <td>NaT</td>\n",
       "      <td>Vice President</td>\n",
       "      <td>Secondary</td>\n",
       "      <td>Agencies</td>\n",
       "      <td>PR</td>\n",
       "    </tr>\n",
       "    <tr>\n",
       "      <th>295</th>\n",
       "      <td>NaN</td>\n",
       "      <td>Wendel Malletratt</td>\n",
       "      <td>Male</td>\n",
       "      <td>Marketing</td>\n",
       "      <td>65969</td>\n",
       "      <td>67660.0</td>\n",
       "      <td>1974-11-16</td>\n",
       "      <td>2014-12-31</td>\n",
       "      <td>NaT</td>\n",
       "      <td>Director</td>\n",
       "      <td>Degree</td>\n",
       "      <td>Permanent</td>\n",
       "      <td>Foreigner</td>\n",
       "    </tr>\n",
       "    <tr>\n",
       "      <th>296</th>\n",
       "      <td>NaN</td>\n",
       "      <td>Shellysheldon Ellerman</td>\n",
       "      <td>Female</td>\n",
       "      <td>Accounting</td>\n",
       "      <td>33608</td>\n",
       "      <td>34470.0</td>\n",
       "      <td>1990-12-10</td>\n",
       "      <td>2010-05-31</td>\n",
       "      <td>NaT</td>\n",
       "      <td>Associate</td>\n",
       "      <td>Secondary</td>\n",
       "      <td>Agencies</td>\n",
       "      <td>Singaporean</td>\n",
       "    </tr>\n",
       "    <tr>\n",
       "      <th>297</th>\n",
       "      <td>Resigning</td>\n",
       "      <td>Emmeline Bestwerthick</td>\n",
       "      <td>Female</td>\n",
       "      <td>Services</td>\n",
       "      <td>36328</td>\n",
       "      <td>38240.0</td>\n",
       "      <td>1989-05-05</td>\n",
       "      <td>2018-04-05</td>\n",
       "      <td>NaT</td>\n",
       "      <td>Manager</td>\n",
       "      <td>Secondary</td>\n",
       "      <td>Permanent</td>\n",
       "      <td>Singaporean</td>\n",
       "    </tr>\n",
       "    <tr>\n",
       "      <th>298</th>\n",
       "      <td>Resigned</td>\n",
       "      <td>Marmaduke Worssam</td>\n",
       "      <td>Female</td>\n",
       "      <td>Sales</td>\n",
       "      <td>78380</td>\n",
       "      <td>78380.0</td>\n",
       "      <td>1995-05-29</td>\n",
       "      <td>2013-11-13</td>\n",
       "      <td>2018-10-24</td>\n",
       "      <td>Vice President</td>\n",
       "      <td>Degree</td>\n",
       "      <td>Agencies</td>\n",
       "      <td>Singaporean</td>\n",
       "    </tr>\n",
       "  </tbody>\n",
       "</table>\n",
       "</div>"
      ],
      "text/plain": [
       "        Status                    Name  Gender  Department  Salary (2019)  \\\n",
       "294        NaN        Durand Backhouse  Female       Legal          78396   \n",
       "295        NaN       Wendel Malletratt    Male   Marketing          65969   \n",
       "296        NaN  Shellysheldon Ellerman  Female  Accounting          33608   \n",
       "297  Resigning   Emmeline Bestwerthick  Female    Services          36328   \n",
       "298   Resigned       Marmaduke Worssam  Female       Sales          78380   \n",
       "\n",
       "     Salary (2020) Birth date Joining Date Resign Date     Designation  \\\n",
       "294        83400.0 1969-09-10   2012-07-16         NaT  Vice President   \n",
       "295        67660.0 1974-11-16   2014-12-31         NaT        Director   \n",
       "296        34470.0 1990-12-10   2010-05-31         NaT       Associate   \n",
       "297        38240.0 1989-05-05   2018-04-05         NaT         Manager   \n",
       "298        78380.0 1995-05-29   2013-11-13  2018-10-24  Vice President   \n",
       "\n",
       "    Education Level Employee Grouping  Nationality  \n",
       "294       Secondary          Agencies           PR  \n",
       "295          Degree         Permanent    Foreigner  \n",
       "296       Secondary          Agencies  Singaporean  \n",
       "297       Secondary         Permanent  Singaporean  \n",
       "298          Degree          Agencies  Singaporean  "
      ]
     },
     "execution_count": 4,
     "metadata": {},
     "output_type": "execute_result"
    }
   ],
   "source": [
    "df.tail()"
   ]
  },
  {
   "cell_type": "markdown",
   "metadata": {},
   "source": [
    "<a id='data_exploration'></a>\n",
    "\n",
    "### Exploration of our Data"
   ]
  },
  {
   "cell_type": "code",
   "execution_count": 5,
   "metadata": {},
   "outputs": [
    {
     "data": {
      "text/plain": [
       "(299, 13)"
      ]
     },
     "execution_count": 5,
     "metadata": {},
     "output_type": "execute_result"
    }
   ],
   "source": [
    "df.shape"
   ]
  },
  {
   "cell_type": "code",
   "execution_count": 6,
   "metadata": {},
   "outputs": [
    {
     "data": {
      "text/plain": [
       "Status                       object\n",
       "Name                         object\n",
       "Gender                       object\n",
       "Department                   object\n",
       "Salary (2019)                 int64\n",
       "Salary (2020)               float64\n",
       "Birth date           datetime64[ns]\n",
       "Joining Date         datetime64[ns]\n",
       "Resign Date          datetime64[ns]\n",
       "Designation                  object\n",
       "Education Level              object\n",
       "Employee Grouping            object\n",
       "Nationality                  object\n",
       "dtype: object"
      ]
     },
     "execution_count": 6,
     "metadata": {},
     "output_type": "execute_result"
    }
   ],
   "source": [
    "df.dtypes"
   ]
  },
  {
   "cell_type": "code",
   "execution_count": 7,
   "metadata": {},
   "outputs": [],
   "source": [
    "df['Salary (2019)'] = df['Salary (2019)'].astype(float)"
   ]
  },
  {
   "cell_type": "code",
   "execution_count": 8,
   "metadata": {},
   "outputs": [
    {
     "name": "stdout",
     "output_type": "stream",
     "text": [
      "<class 'pandas.core.frame.DataFrame'>\n",
      "RangeIndex: 299 entries, 0 to 298\n",
      "Data columns (total 13 columns):\n",
      " #   Column             Non-Null Count  Dtype         \n",
      "---  ------             --------------  -----         \n",
      " 0   Status             42 non-null     object        \n",
      " 1   Name               299 non-null    object        \n",
      " 2   Gender             299 non-null    object        \n",
      " 3   Department         299 non-null    object        \n",
      " 4   Salary (2019)      299 non-null    float64       \n",
      " 5   Salary (2020)      287 non-null    float64       \n",
      " 6   Birth date         299 non-null    datetime64[ns]\n",
      " 7   Joining Date       299 non-null    datetime64[ns]\n",
      " 8   Resign Date        34 non-null     datetime64[ns]\n",
      " 9   Designation        299 non-null    object        \n",
      " 10  Education Level    299 non-null    object        \n",
      " 11  Employee Grouping  299 non-null    object        \n",
      " 12  Nationality        299 non-null    object        \n",
      "dtypes: datetime64[ns](3), float64(2), object(8)\n",
      "memory usage: 30.5+ KB\n"
     ]
    }
   ],
   "source": [
    "# helps to check if Salary (2020) has the float datatype, and check for null entries\n",
    "df.info()"
   ]
  },
  {
   "cell_type": "markdown",
   "metadata": {},
   "source": [
    "We notice that the `Status`, `Salary (2020)` and `Resign Date` columns contain null values. We shall investigate these later."
   ]
  },
  {
   "cell_type": "code",
   "execution_count": 9,
   "metadata": {},
   "outputs": [
    {
     "data": {
      "text/html": [
       "<div>\n",
       "<style scoped>\n",
       "    .dataframe tbody tr th:only-of-type {\n",
       "        vertical-align: middle;\n",
       "    }\n",
       "\n",
       "    .dataframe tbody tr th {\n",
       "        vertical-align: top;\n",
       "    }\n",
       "\n",
       "    .dataframe thead th {\n",
       "        text-align: right;\n",
       "    }\n",
       "</style>\n",
       "<table border=\"1\" class=\"dataframe\">\n",
       "  <thead>\n",
       "    <tr style=\"text-align: right;\">\n",
       "      <th></th>\n",
       "      <th>Salary (2019)</th>\n",
       "      <th>Salary (2020)</th>\n",
       "    </tr>\n",
       "  </thead>\n",
       "  <tbody>\n",
       "    <tr>\n",
       "      <th>count</th>\n",
       "      <td>299.000000</td>\n",
       "      <td>287.000000</td>\n",
       "    </tr>\n",
       "    <tr>\n",
       "      <th>mean</th>\n",
       "      <td>75445.210702</td>\n",
       "      <td>78207.073171</td>\n",
       "    </tr>\n",
       "    <tr>\n",
       "      <th>std</th>\n",
       "      <td>36787.902746</td>\n",
       "      <td>38101.310897</td>\n",
       "    </tr>\n",
       "    <tr>\n",
       "      <th>min</th>\n",
       "      <td>27056.000000</td>\n",
       "      <td>28330.000000</td>\n",
       "    </tr>\n",
       "    <tr>\n",
       "      <th>25%</th>\n",
       "      <td>49856.500000</td>\n",
       "      <td>51955.000000</td>\n",
       "    </tr>\n",
       "    <tr>\n",
       "      <th>50%</th>\n",
       "      <td>72842.000000</td>\n",
       "      <td>75320.000000</td>\n",
       "    </tr>\n",
       "    <tr>\n",
       "      <th>75%</th>\n",
       "      <td>96680.000000</td>\n",
       "      <td>99715.000000</td>\n",
       "    </tr>\n",
       "    <tr>\n",
       "      <th>max</th>\n",
       "      <td>420128.000000</td>\n",
       "      <td>430900.000000</td>\n",
       "    </tr>\n",
       "  </tbody>\n",
       "</table>\n",
       "</div>"
      ],
      "text/plain": [
       "       Salary (2019)  Salary (2020)\n",
       "count     299.000000     287.000000\n",
       "mean    75445.210702   78207.073171\n",
       "std     36787.902746   38101.310897\n",
       "min     27056.000000   28330.000000\n",
       "25%     49856.500000   51955.000000\n",
       "50%     72842.000000   75320.000000\n",
       "75%     96680.000000   99715.000000\n",
       "max    420128.000000  430900.000000"
      ]
     },
     "execution_count": 9,
     "metadata": {},
     "output_type": "execute_result"
    }
   ],
   "source": [
    "df.describe()"
   ]
  },
  {
   "cell_type": "markdown",
   "metadata": {},
   "source": [
    "To summarise the above table, the following row labels mean:\n",
    "\n",
    "* **count**: the number of data entries for each column\n",
    "* **mean**: the average annual salary of each respective year\n",
    "* **std**: the standard deviation of the data entries in that column\n",
    "* **min**: the minimum annual salary of each respective year\n",
    "* **25%**: the salary at the (bottom) 25th percentage of the salaries in that column\n",
    "* **50%**: the salary at the (bottom) 50th percentage of the salaries in that column\n",
    "* **75%**: the salary at the (bottom) 75th percentage of the salaries in that column\n",
    "* **max**: the maximum annual salary of each respective year\n"
   ]
  },
  {
   "cell_type": "markdown",
   "metadata": {},
   "source": [
    "The annual salaries do not seem to be out of the ordinary (not unusually high or low)."
   ]
  },
  {
   "cell_type": "markdown",
   "metadata": {},
   "source": [
    "<a id='data_cleaning'></a>\n",
    "\n",
    "### Data Cleaning\n",
    "\n",
    "#### Handling Missing Data"
   ]
  },
  {
   "cell_type": "code",
   "execution_count": 10,
   "metadata": {},
   "outputs": [
    {
     "data": {
      "text/plain": [
       "Status               257\n",
       "Name                   0\n",
       "Gender                 0\n",
       "Department             0\n",
       "Salary (2019)          0\n",
       "Salary (2020)         12\n",
       "Birth date             0\n",
       "Joining Date           0\n",
       "Resign Date          265\n",
       "Designation            0\n",
       "Education Level        0\n",
       "Employee Grouping      0\n",
       "Nationality            0\n",
       "dtype: int64"
      ]
     },
     "execution_count": 10,
     "metadata": {},
     "output_type": "execute_result"
    }
   ],
   "source": [
    "# alternative to df.info()\n",
    "df.isnull().sum()"
   ]
  },
  {
   "cell_type": "markdown",
   "metadata": {},
   "source": [
    "As confirmed earlier, the `Status`, `Salary (2020)` and `Resign Date` columns have missing entries.\n",
    "\n",
    "However, 257 out of 299 entries of the `Status` column are null; this is an overwhelming majority of the data. This implies that these employees are still working in the company at the time the data was collected. To further support this assertion, majority of the employees do not seem to have a resignation date, which is normal since most of them are still working in the company. \n",
    "\n",
    "Still, there seem to be 8 employees with a filled `Status`, but are missing a `Resign Date`, which I suspect might be because they are resigning, but have not yet resigned.\n",
    "\n",
    "Next, we observe that the `Salary (2020)` of 12 employees are missing. This part is tricky as we do not know the exact reason for the missing data, but we might be able to find out why upon further exploration."
   ]
  },
  {
   "cell_type": "code",
   "execution_count": 11,
   "metadata": {},
   "outputs": [
    {
     "data": {
      "text/html": [
       "<div>\n",
       "<style scoped>\n",
       "    .dataframe tbody tr th:only-of-type {\n",
       "        vertical-align: middle;\n",
       "    }\n",
       "\n",
       "    .dataframe tbody tr th {\n",
       "        vertical-align: top;\n",
       "    }\n",
       "\n",
       "    .dataframe thead th {\n",
       "        text-align: right;\n",
       "    }\n",
       "</style>\n",
       "<table border=\"1\" class=\"dataframe\">\n",
       "  <thead>\n",
       "    <tr style=\"text-align: right;\">\n",
       "      <th></th>\n",
       "      <th>Status</th>\n",
       "      <th>Name</th>\n",
       "      <th>Gender</th>\n",
       "      <th>Department</th>\n",
       "      <th>Salary (2019)</th>\n",
       "      <th>Salary (2020)</th>\n",
       "      <th>Birth date</th>\n",
       "      <th>Joining Date</th>\n",
       "      <th>Resign Date</th>\n",
       "      <th>Designation</th>\n",
       "      <th>Education Level</th>\n",
       "      <th>Employee Grouping</th>\n",
       "      <th>Nationality</th>\n",
       "    </tr>\n",
       "  </thead>\n",
       "  <tbody>\n",
       "    <tr>\n",
       "      <th>40</th>\n",
       "      <td>Resigning</td>\n",
       "      <td>Mendel Gentsch</td>\n",
       "      <td>Male</td>\n",
       "      <td>Human Resources</td>\n",
       "      <td>27622.0</td>\n",
       "      <td>28330.0</td>\n",
       "      <td>1994-10-11</td>\n",
       "      <td>2016-07-24</td>\n",
       "      <td>NaT</td>\n",
       "      <td>Managing Director</td>\n",
       "      <td>Master</td>\n",
       "      <td>Direct Contract</td>\n",
       "      <td>PR</td>\n",
       "    </tr>\n",
       "    <tr>\n",
       "      <th>41</th>\n",
       "      <td>Resigning</td>\n",
       "      <td>Alfred Peplay</td>\n",
       "      <td>Female</td>\n",
       "      <td>Sales</td>\n",
       "      <td>57551.0</td>\n",
       "      <td>60580.0</td>\n",
       "      <td>1977-06-08</td>\n",
       "      <td>2011-12-22</td>\n",
       "      <td>NaT</td>\n",
       "      <td>Managing Director</td>\n",
       "      <td>PHD</td>\n",
       "      <td>Permanent</td>\n",
       "      <td>PR</td>\n",
       "    </tr>\n",
       "    <tr>\n",
       "      <th>54</th>\n",
       "      <td>Resigning</td>\n",
       "      <td>Trace Sidsaff</td>\n",
       "      <td>Female</td>\n",
       "      <td>Business Development</td>\n",
       "      <td>48640.0</td>\n",
       "      <td>51200.0</td>\n",
       "      <td>1997-05-31</td>\n",
       "      <td>2010-04-29</td>\n",
       "      <td>NaT</td>\n",
       "      <td>Vice President</td>\n",
       "      <td>Secondary</td>\n",
       "      <td>Agencies</td>\n",
       "      <td>PR</td>\n",
       "    </tr>\n",
       "    <tr>\n",
       "      <th>97</th>\n",
       "      <td>Resigning</td>\n",
       "      <td>Pedro St. Hill</td>\n",
       "      <td>Male</td>\n",
       "      <td>Legal</td>\n",
       "      <td>95000.0</td>\n",
       "      <td>100000.0</td>\n",
       "      <td>1971-11-16</td>\n",
       "      <td>2018-09-29</td>\n",
       "      <td>NaT</td>\n",
       "      <td>Ass. Manager</td>\n",
       "      <td>PHD</td>\n",
       "      <td>Permanent</td>\n",
       "      <td>Foreigner</td>\n",
       "    </tr>\n",
       "    <tr>\n",
       "      <th>114</th>\n",
       "      <td>Resigning</td>\n",
       "      <td>Mile Swindley</td>\n",
       "      <td>Male</td>\n",
       "      <td>Support</td>\n",
       "      <td>53430.0</td>\n",
       "      <td>54800.0</td>\n",
       "      <td>1998-10-18</td>\n",
       "      <td>2014-09-07</td>\n",
       "      <td>NaT</td>\n",
       "      <td>Associate</td>\n",
       "      <td>Diploma</td>\n",
       "      <td>Permanent</td>\n",
       "      <td>Foreigner</td>\n",
       "    </tr>\n",
       "    <tr>\n",
       "      <th>168</th>\n",
       "      <td>Resigning</td>\n",
       "      <td>Crawford Scad</td>\n",
       "      <td>Male</td>\n",
       "      <td>Accounting</td>\n",
       "      <td>72880.0</td>\n",
       "      <td>72880.0</td>\n",
       "      <td>1995-04-10</td>\n",
       "      <td>2018-10-03</td>\n",
       "      <td>NaT</td>\n",
       "      <td>Managing Director</td>\n",
       "      <td>Diploma</td>\n",
       "      <td>Permanent</td>\n",
       "      <td>Singaporean</td>\n",
       "    </tr>\n",
       "    <tr>\n",
       "      <th>277</th>\n",
       "      <td>Resigning</td>\n",
       "      <td>Cindee Saice</td>\n",
       "      <td>Female</td>\n",
       "      <td>Engineering</td>\n",
       "      <td>100776.0</td>\n",
       "      <td>103360.0</td>\n",
       "      <td>1975-03-21</td>\n",
       "      <td>2017-12-28</td>\n",
       "      <td>NaT</td>\n",
       "      <td>Vice President</td>\n",
       "      <td>Diploma</td>\n",
       "      <td>Direct Contract</td>\n",
       "      <td>PR</td>\n",
       "    </tr>\n",
       "    <tr>\n",
       "      <th>297</th>\n",
       "      <td>Resigning</td>\n",
       "      <td>Emmeline Bestwerthick</td>\n",
       "      <td>Female</td>\n",
       "      <td>Services</td>\n",
       "      <td>36328.0</td>\n",
       "      <td>38240.0</td>\n",
       "      <td>1989-05-05</td>\n",
       "      <td>2018-04-05</td>\n",
       "      <td>NaT</td>\n",
       "      <td>Manager</td>\n",
       "      <td>Secondary</td>\n",
       "      <td>Permanent</td>\n",
       "      <td>Singaporean</td>\n",
       "    </tr>\n",
       "  </tbody>\n",
       "</table>\n",
       "</div>"
      ],
      "text/plain": [
       "        Status                   Name  Gender            Department  \\\n",
       "40   Resigning         Mendel Gentsch    Male       Human Resources   \n",
       "41   Resigning          Alfred Peplay  Female                 Sales   \n",
       "54   Resigning          Trace Sidsaff  Female  Business Development   \n",
       "97   Resigning         Pedro St. Hill    Male                 Legal   \n",
       "114  Resigning          Mile Swindley    Male               Support   \n",
       "168  Resigning          Crawford Scad    Male            Accounting   \n",
       "277  Resigning           Cindee Saice  Female           Engineering   \n",
       "297  Resigning  Emmeline Bestwerthick  Female              Services   \n",
       "\n",
       "     Salary (2019)  Salary (2020) Birth date Joining Date Resign Date  \\\n",
       "40         27622.0        28330.0 1994-10-11   2016-07-24         NaT   \n",
       "41         57551.0        60580.0 1977-06-08   2011-12-22         NaT   \n",
       "54         48640.0        51200.0 1997-05-31   2010-04-29         NaT   \n",
       "97         95000.0       100000.0 1971-11-16   2018-09-29         NaT   \n",
       "114        53430.0        54800.0 1998-10-18   2014-09-07         NaT   \n",
       "168        72880.0        72880.0 1995-04-10   2018-10-03         NaT   \n",
       "277       100776.0       103360.0 1975-03-21   2017-12-28         NaT   \n",
       "297        36328.0        38240.0 1989-05-05   2018-04-05         NaT   \n",
       "\n",
       "           Designation Education Level Employee Grouping  Nationality  \n",
       "40   Managing Director          Master   Direct Contract           PR  \n",
       "41   Managing Director             PHD         Permanent           PR  \n",
       "54      Vice President       Secondary          Agencies           PR  \n",
       "97        Ass. Manager             PHD         Permanent    Foreigner  \n",
       "114          Associate         Diploma         Permanent    Foreigner  \n",
       "168  Managing Director         Diploma         Permanent  Singaporean  \n",
       "277     Vice President         Diploma   Direct Contract           PR  \n",
       "297            Manager       Secondary         Permanent  Singaporean  "
      ]
     },
     "execution_count": 11,
     "metadata": {},
     "output_type": "execute_result"
    }
   ],
   "source": [
    "# Employees with a status but no resign date\n",
    "\n",
    "# creating conditions to filter out the entries which fulfil the above requirements\n",
    "bool_null_resign = pd.isnull(df['Resign Date'])\n",
    "bool_status = pd.notnull(df['Status'])\n",
    "\n",
    "status_no_resign = df[bool_null_resign & bool_status] # note that \"and\" doesn't work, only & does\n",
    "status_no_resign"
   ]
  },
  {
   "cell_type": "markdown",
   "metadata": {},
   "source": [
    "The above confirms our hypothesis that 8 employees are resigning, but not yet resigned, which explains the discrepancy we mentioned earlier in the dataset.\n",
    "\n",
    "Next, we investigate why the `Salary (2020)` of 12 employees are missing."
   ]
  },
  {
   "cell_type": "code",
   "execution_count": 12,
   "metadata": {},
   "outputs": [
    {
     "data": {
      "text/html": [
       "<div>\n",
       "<style scoped>\n",
       "    .dataframe tbody tr th:only-of-type {\n",
       "        vertical-align: middle;\n",
       "    }\n",
       "\n",
       "    .dataframe tbody tr th {\n",
       "        vertical-align: top;\n",
       "    }\n",
       "\n",
       "    .dataframe thead th {\n",
       "        text-align: right;\n",
       "    }\n",
       "</style>\n",
       "<table border=\"1\" class=\"dataframe\">\n",
       "  <thead>\n",
       "    <tr style=\"text-align: right;\">\n",
       "      <th></th>\n",
       "      <th>Status</th>\n",
       "      <th>Name</th>\n",
       "      <th>Gender</th>\n",
       "      <th>Department</th>\n",
       "      <th>Salary (2019)</th>\n",
       "      <th>Salary (2020)</th>\n",
       "      <th>Birth date</th>\n",
       "      <th>Joining Date</th>\n",
       "      <th>Resign Date</th>\n",
       "      <th>Designation</th>\n",
       "      <th>Education Level</th>\n",
       "      <th>Employee Grouping</th>\n",
       "      <th>Nationality</th>\n",
       "    </tr>\n",
       "  </thead>\n",
       "  <tbody>\n",
       "    <tr>\n",
       "      <th>0</th>\n",
       "      <td>Resigned</td>\n",
       "      <td>Ches Bonnell</td>\n",
       "      <td>Male</td>\n",
       "      <td>Business Development</td>\n",
       "      <td>88050.0</td>\n",
       "      <td>NaN</td>\n",
       "      <td>1999-11-18</td>\n",
       "      <td>2017-11-24</td>\n",
       "      <td>2019-06-23</td>\n",
       "      <td>Associate</td>\n",
       "      <td>Degree</td>\n",
       "      <td>Agencies</td>\n",
       "      <td>Singaporean</td>\n",
       "    </tr>\n",
       "    <tr>\n",
       "      <th>11</th>\n",
       "      <td>Resigned</td>\n",
       "      <td>Stefa Eggleston</td>\n",
       "      <td>Male</td>\n",
       "      <td>Human Resources</td>\n",
       "      <td>83961.0</td>\n",
       "      <td>NaN</td>\n",
       "      <td>1972-12-18</td>\n",
       "      <td>2016-12-02</td>\n",
       "      <td>2019-04-30</td>\n",
       "      <td>Director</td>\n",
       "      <td>Secondary</td>\n",
       "      <td>Agencies</td>\n",
       "      <td>Foreigner</td>\n",
       "    </tr>\n",
       "    <tr>\n",
       "      <th>14</th>\n",
       "      <td>Resigned</td>\n",
       "      <td>Axel Grigaut</td>\n",
       "      <td>Male</td>\n",
       "      <td>Business Development</td>\n",
       "      <td>104133.0</td>\n",
       "      <td>NaN</td>\n",
       "      <td>1985-09-19</td>\n",
       "      <td>2016-10-25</td>\n",
       "      <td>2019-10-25</td>\n",
       "      <td>Associate</td>\n",
       "      <td>Degree</td>\n",
       "      <td>Permanent</td>\n",
       "      <td>Foreigner</td>\n",
       "    </tr>\n",
       "    <tr>\n",
       "      <th>15</th>\n",
       "      <td>Resigned</td>\n",
       "      <td>Timmi Durran</td>\n",
       "      <td>Male</td>\n",
       "      <td>Marketing</td>\n",
       "      <td>68430.0</td>\n",
       "      <td>NaN</td>\n",
       "      <td>1993-04-09</td>\n",
       "      <td>2015-05-28</td>\n",
       "      <td>2019-12-10</td>\n",
       "      <td>Manager</td>\n",
       "      <td>Degree</td>\n",
       "      <td>Direct Contract</td>\n",
       "      <td>Foreigner</td>\n",
       "    </tr>\n",
       "    <tr>\n",
       "      <th>22</th>\n",
       "      <td>Resigned</td>\n",
       "      <td>Tiffani Mecozzi</td>\n",
       "      <td>Female</td>\n",
       "      <td>Support</td>\n",
       "      <td>113763.0</td>\n",
       "      <td>NaN</td>\n",
       "      <td>2000-10-07</td>\n",
       "      <td>2015-12-28</td>\n",
       "      <td>2019-12-14</td>\n",
       "      <td>Vice President</td>\n",
       "      <td>Master</td>\n",
       "      <td>Agencies</td>\n",
       "      <td>Singaporean</td>\n",
       "    </tr>\n",
       "    <tr>\n",
       "      <th>26</th>\n",
       "      <td>Resigned</td>\n",
       "      <td>Rafaelita Blaksland</td>\n",
       "      <td>Female</td>\n",
       "      <td>Engineering</td>\n",
       "      <td>106431.0</td>\n",
       "      <td>NaN</td>\n",
       "      <td>1970-07-25</td>\n",
       "      <td>2018-11-14</td>\n",
       "      <td>2019-04-24</td>\n",
       "      <td>Managing Director</td>\n",
       "      <td>Degree</td>\n",
       "      <td>Agencies</td>\n",
       "      <td>Foreigner</td>\n",
       "    </tr>\n",
       "    <tr>\n",
       "      <th>91</th>\n",
       "      <td>Resigned</td>\n",
       "      <td>Daryn Kniveton</td>\n",
       "      <td>Female</td>\n",
       "      <td>Support</td>\n",
       "      <td>105680.0</td>\n",
       "      <td>NaN</td>\n",
       "      <td>1994-05-11</td>\n",
       "      <td>2019-11-20</td>\n",
       "      <td>2019-06-18</td>\n",
       "      <td>Manager</td>\n",
       "      <td>Secondary</td>\n",
       "      <td>Direct Contract</td>\n",
       "      <td>Singaporean</td>\n",
       "    </tr>\n",
       "    <tr>\n",
       "      <th>98</th>\n",
       "      <td>Resigned</td>\n",
       "      <td>Tris Hynard</td>\n",
       "      <td>Female</td>\n",
       "      <td>Engineering</td>\n",
       "      <td>27262.0</td>\n",
       "      <td>NaN</td>\n",
       "      <td>2000-08-05</td>\n",
       "      <td>2010-05-04</td>\n",
       "      <td>2019-04-29</td>\n",
       "      <td>Ass. Vice President</td>\n",
       "      <td>Secondary</td>\n",
       "      <td>Permanent</td>\n",
       "      <td>Foreigner</td>\n",
       "    </tr>\n",
       "    <tr>\n",
       "      <th>115</th>\n",
       "      <td>Resigned</td>\n",
       "      <td>Garwood Penhale</td>\n",
       "      <td>Female</td>\n",
       "      <td>Product Management</td>\n",
       "      <td>96640.0</td>\n",
       "      <td>NaN</td>\n",
       "      <td>1993-01-26</td>\n",
       "      <td>2011-08-23</td>\n",
       "      <td>2019-07-04</td>\n",
       "      <td>Ass. Manager</td>\n",
       "      <td>Master</td>\n",
       "      <td>Permanent</td>\n",
       "      <td>Singaporean</td>\n",
       "    </tr>\n",
       "    <tr>\n",
       "      <th>134</th>\n",
       "      <td>Resigned</td>\n",
       "      <td>Juditha Hatherleigh</td>\n",
       "      <td>Female</td>\n",
       "      <td>Training</td>\n",
       "      <td>33959.0</td>\n",
       "      <td>NaN</td>\n",
       "      <td>1994-08-15</td>\n",
       "      <td>2016-04-30</td>\n",
       "      <td>2019-10-01</td>\n",
       "      <td>Associate</td>\n",
       "      <td>Diploma</td>\n",
       "      <td>Permanent</td>\n",
       "      <td>Singaporean</td>\n",
       "    </tr>\n",
       "    <tr>\n",
       "      <th>228</th>\n",
       "      <td>Resigned</td>\n",
       "      <td>Shanon Deverell</td>\n",
       "      <td>Female</td>\n",
       "      <td>Legal</td>\n",
       "      <td>76226.0</td>\n",
       "      <td>NaN</td>\n",
       "      <td>1984-01-22</td>\n",
       "      <td>2018-07-24</td>\n",
       "      <td>2019-01-28</td>\n",
       "      <td>Manager</td>\n",
       "      <td>Degree</td>\n",
       "      <td>Permanent</td>\n",
       "      <td>Singaporean</td>\n",
       "    </tr>\n",
       "    <tr>\n",
       "      <th>267</th>\n",
       "      <td>Resigned</td>\n",
       "      <td>Louise Lamming</td>\n",
       "      <td>Female</td>\n",
       "      <td>Business Development</td>\n",
       "      <td>40882.0</td>\n",
       "      <td>NaN</td>\n",
       "      <td>1974-12-14</td>\n",
       "      <td>2012-02-09</td>\n",
       "      <td>2019-04-11</td>\n",
       "      <td>Vice President</td>\n",
       "      <td>Diploma</td>\n",
       "      <td>Direct Contract</td>\n",
       "      <td>PR</td>\n",
       "    </tr>\n",
       "  </tbody>\n",
       "</table>\n",
       "</div>"
      ],
      "text/plain": [
       "       Status                 Name  Gender            Department  \\\n",
       "0    Resigned         Ches Bonnell    Male  Business Development   \n",
       "11   Resigned      Stefa Eggleston    Male       Human Resources   \n",
       "14   Resigned         Axel Grigaut    Male  Business Development   \n",
       "15   Resigned         Timmi Durran    Male             Marketing   \n",
       "22   Resigned      Tiffani Mecozzi  Female               Support   \n",
       "26   Resigned  Rafaelita Blaksland  Female           Engineering   \n",
       "91   Resigned       Daryn Kniveton  Female               Support   \n",
       "98   Resigned          Tris Hynard  Female           Engineering   \n",
       "115  Resigned      Garwood Penhale  Female    Product Management   \n",
       "134  Resigned  Juditha Hatherleigh  Female              Training   \n",
       "228  Resigned      Shanon Deverell  Female                 Legal   \n",
       "267  Resigned       Louise Lamming  Female  Business Development   \n",
       "\n",
       "     Salary (2019)  Salary (2020) Birth date Joining Date Resign Date  \\\n",
       "0          88050.0            NaN 1999-11-18   2017-11-24  2019-06-23   \n",
       "11         83961.0            NaN 1972-12-18   2016-12-02  2019-04-30   \n",
       "14        104133.0            NaN 1985-09-19   2016-10-25  2019-10-25   \n",
       "15         68430.0            NaN 1993-04-09   2015-05-28  2019-12-10   \n",
       "22        113763.0            NaN 2000-10-07   2015-12-28  2019-12-14   \n",
       "26        106431.0            NaN 1970-07-25   2018-11-14  2019-04-24   \n",
       "91        105680.0            NaN 1994-05-11   2019-11-20  2019-06-18   \n",
       "98         27262.0            NaN 2000-08-05   2010-05-04  2019-04-29   \n",
       "115        96640.0            NaN 1993-01-26   2011-08-23  2019-07-04   \n",
       "134        33959.0            NaN 1994-08-15   2016-04-30  2019-10-01   \n",
       "228        76226.0            NaN 1984-01-22   2018-07-24  2019-01-28   \n",
       "267        40882.0            NaN 1974-12-14   2012-02-09  2019-04-11   \n",
       "\n",
       "             Designation Education Level Employee Grouping  Nationality  \n",
       "0              Associate          Degree          Agencies  Singaporean  \n",
       "11              Director       Secondary          Agencies    Foreigner  \n",
       "14             Associate          Degree         Permanent    Foreigner  \n",
       "15               Manager          Degree   Direct Contract    Foreigner  \n",
       "22        Vice President          Master          Agencies  Singaporean  \n",
       "26     Managing Director          Degree          Agencies    Foreigner  \n",
       "91               Manager       Secondary   Direct Contract  Singaporean  \n",
       "98   Ass. Vice President       Secondary         Permanent    Foreigner  \n",
       "115         Ass. Manager          Master         Permanent  Singaporean  \n",
       "134            Associate         Diploma         Permanent  Singaporean  \n",
       "228              Manager          Degree         Permanent  Singaporean  \n",
       "267       Vice President         Diploma   Direct Contract           PR  "
      ]
     },
     "execution_count": 12,
     "metadata": {},
     "output_type": "execute_result"
    }
   ],
   "source": [
    "bool_missing_salary_2020 = pd.isnull(df['Salary (2020)'])\n",
    "\n",
    "missing_salary_2020 = df[bool_missing_salary_2020]\n",
    "missing_salary_2020"
   ]
  },
  {
   "cell_type": "markdown",
   "metadata": {},
   "source": [
    "By observation, we notice that the employees who do not have a salary in 2020 have a few features in common:\n",
    "* they have already resigned\n",
    "* their resign year was in 2019 \n",
    "\n",
    "We would ordinarily make the assumption that those who resigned **before 2019 and in 2019** would have not have a salary in 2020.\n",
    "\n",
    "However, when we examined the last 5 entries of the dataset earlier, we observed that in the very last entry, the employee's resignation year was in *2018*, the corresponding entries for `Salary (2019)` and `Salary (2020)` were filled.\n",
    "\n",
    "This is most likely because as the employee resigned before 2019, the latest salary of the employee was used to fill in these two columns. The same would apply for the rest of the employees who resigned before Year 2019. \n",
    "\n",
    "So this means that those who resigned **before 2019** has their corresponding `Salary (2019)` and `Salary (2020)` entries filled with their last known salary, but those who resigned **in 2019** only has their `Salary (2019)` entry filled.\n",
    "\n",
    "What we could do for the 12 missing values in `Salary (2020)` is to do imputation (substitute missing values) based on `Salary (2019)`, which is similar to their approach of imputing `Salary (2019)` and `Salary (2020)` with the last known salary of the employees which resigned before 2019."
   ]
  },
  {
   "cell_type": "code",
   "execution_count": 13,
   "metadata": {},
   "outputs": [],
   "source": [
    "df['Salary (2020)'] = df['Salary (2020)'].fillna(df['Salary (2019)'])"
   ]
  },
  {
   "cell_type": "code",
   "execution_count": 14,
   "metadata": {},
   "outputs": [
    {
     "data": {
      "text/plain": [
       "0"
      ]
     },
     "execution_count": 14,
     "metadata": {},
     "output_type": "execute_result"
    }
   ],
   "source": [
    "df['Salary (2020)'].isnull().sum()"
   ]
  },
  {
   "cell_type": "code",
   "execution_count": 15,
   "metadata": {},
   "outputs": [
    {
     "data": {
      "text/html": [
       "<div>\n",
       "<style scoped>\n",
       "    .dataframe tbody tr th:only-of-type {\n",
       "        vertical-align: middle;\n",
       "    }\n",
       "\n",
       "    .dataframe tbody tr th {\n",
       "        vertical-align: top;\n",
       "    }\n",
       "\n",
       "    .dataframe thead th {\n",
       "        text-align: right;\n",
       "    }\n",
       "</style>\n",
       "<table border=\"1\" class=\"dataframe\">\n",
       "  <thead>\n",
       "    <tr style=\"text-align: right;\">\n",
       "      <th></th>\n",
       "      <th>Status</th>\n",
       "      <th>Name</th>\n",
       "      <th>Gender</th>\n",
       "      <th>Department</th>\n",
       "      <th>Salary (2019)</th>\n",
       "      <th>Salary (2020)</th>\n",
       "      <th>Birth date</th>\n",
       "      <th>Joining Date</th>\n",
       "      <th>Resign Date</th>\n",
       "      <th>Designation</th>\n",
       "      <th>Education Level</th>\n",
       "      <th>Employee Grouping</th>\n",
       "      <th>Nationality</th>\n",
       "    </tr>\n",
       "  </thead>\n",
       "  <tbody>\n",
       "    <tr>\n",
       "      <th>0</th>\n",
       "      <td>Resigned</td>\n",
       "      <td>Ches Bonnell</td>\n",
       "      <td>Male</td>\n",
       "      <td>Business Development</td>\n",
       "      <td>88050.0</td>\n",
       "      <td>88050.0</td>\n",
       "      <td>1999-11-18</td>\n",
       "      <td>2017-11-24</td>\n",
       "      <td>2019-06-23</td>\n",
       "      <td>Associate</td>\n",
       "      <td>Degree</td>\n",
       "      <td>Agencies</td>\n",
       "      <td>Singaporean</td>\n",
       "    </tr>\n",
       "    <tr>\n",
       "      <th>11</th>\n",
       "      <td>Resigned</td>\n",
       "      <td>Stefa Eggleston</td>\n",
       "      <td>Male</td>\n",
       "      <td>Human Resources</td>\n",
       "      <td>83961.0</td>\n",
       "      <td>83961.0</td>\n",
       "      <td>1972-12-18</td>\n",
       "      <td>2016-12-02</td>\n",
       "      <td>2019-04-30</td>\n",
       "      <td>Director</td>\n",
       "      <td>Secondary</td>\n",
       "      <td>Agencies</td>\n",
       "      <td>Foreigner</td>\n",
       "    </tr>\n",
       "    <tr>\n",
       "      <th>14</th>\n",
       "      <td>Resigned</td>\n",
       "      <td>Axel Grigaut</td>\n",
       "      <td>Male</td>\n",
       "      <td>Business Development</td>\n",
       "      <td>104133.0</td>\n",
       "      <td>104133.0</td>\n",
       "      <td>1985-09-19</td>\n",
       "      <td>2016-10-25</td>\n",
       "      <td>2019-10-25</td>\n",
       "      <td>Associate</td>\n",
       "      <td>Degree</td>\n",
       "      <td>Permanent</td>\n",
       "      <td>Foreigner</td>\n",
       "    </tr>\n",
       "  </tbody>\n",
       "</table>\n",
       "</div>"
      ],
      "text/plain": [
       "      Status             Name Gender            Department  Salary (2019)  \\\n",
       "0   Resigned     Ches Bonnell   Male  Business Development        88050.0   \n",
       "11  Resigned  Stefa Eggleston   Male       Human Resources        83961.0   \n",
       "14  Resigned     Axel Grigaut   Male  Business Development       104133.0   \n",
       "\n",
       "    Salary (2020) Birth date Joining Date Resign Date Designation  \\\n",
       "0         88050.0 1999-11-18   2017-11-24  2019-06-23   Associate   \n",
       "11        83961.0 1972-12-18   2016-12-02  2019-04-30    Director   \n",
       "14       104133.0 1985-09-19   2016-10-25  2019-10-25   Associate   \n",
       "\n",
       "   Education Level Employee Grouping  Nationality  \n",
       "0           Degree          Agencies  Singaporean  \n",
       "11       Secondary          Agencies    Foreigner  \n",
       "14          Degree         Permanent    Foreigner  "
      ]
     },
     "execution_count": 15,
     "metadata": {},
     "output_type": "execute_result"
    }
   ],
   "source": [
    "# check if imputation was done correctly\n",
    "df.iloc[[0, 11, 14]]"
   ]
  },
  {
   "cell_type": "markdown",
   "metadata": {},
   "source": [
    "Next, we can check for any duplicate entries in the dataset.\n",
    "\n",
    "#### Handling Duplicate Data"
   ]
  },
  {
   "cell_type": "code",
   "execution_count": 16,
   "metadata": {},
   "outputs": [],
   "source": [
    "df.drop_duplicates(inplace=True)"
   ]
  },
  {
   "cell_type": "code",
   "execution_count": 17,
   "metadata": {},
   "outputs": [
    {
     "data": {
      "text/plain": [
       "(299, 13)"
      ]
     },
     "execution_count": 17,
     "metadata": {},
     "output_type": "execute_result"
    }
   ],
   "source": [
    "df.shape"
   ]
  },
  {
   "cell_type": "markdown",
   "metadata": {},
   "source": [
    "The number of rows (employees) still remains the same after checking for duplicates. This means that there are no duplicate entries in the dataset.\n",
    "\n",
    "#### Adding Additional Columns"
   ]
  },
  {
   "cell_type": "code",
   "execution_count": 18,
   "metadata": {},
   "outputs": [
    {
     "data": {
      "text/plain": [
       "0    19.0\n",
       "1     NaN\n",
       "2     NaN\n",
       "3     NaN\n",
       "4     NaN\n",
       "Name: months_in_company, dtype: float64"
      ]
     },
     "execution_count": 18,
     "metadata": {},
     "output_type": "execute_result"
    }
   ],
   "source": [
    "# number of months each employee has worked in the company\n",
    "df['months_in_company'] = df['Resign Date'] - df['Joining Date']\n",
    "df['months_in_company'] = round(df['months_in_company'] / np.timedelta64(1, 'M'), 0)\n",
    "df['months_in_company'][0:5]"
   ]
  },
  {
   "cell_type": "code",
   "execution_count": 19,
   "metadata": {},
   "outputs": [
    {
     "data": {
      "text/plain": [
       "0    18.0\n",
       "1    42.0\n",
       "2    11.0\n",
       "3    42.0\n",
       "4    35.0\n",
       "Name: age_on_joining, dtype: float64"
      ]
     },
     "execution_count": 19,
     "metadata": {},
     "output_type": "execute_result"
    }
   ],
   "source": [
    "# age of each employee when they joined\n",
    "df['age_on_joining'] = df['Joining Date'] - df['Birth date']\n",
    "df['age_on_joining'] = round(df['age_on_joining'] / np.timedelta64(1, 'Y'), 0)\n",
    "df['age_on_joining'][0:5]"
   ]
  },
  {
   "cell_type": "code",
   "execution_count": 20,
   "metadata": {},
   "outputs": [
    {
     "data": {
      "text/plain": [
       "0    20.0\n",
       "1     NaN\n",
       "2     NaN\n",
       "3     NaN\n",
       "4     NaN\n",
       "Name: age_on_resign, dtype: float64"
      ]
     },
     "execution_count": 20,
     "metadata": {},
     "output_type": "execute_result"
    }
   ],
   "source": [
    "# age of each employee when they resigned\n",
    "df['age_on_resign'] = df['Resign Date'] - df['Birth date']\n",
    "df['age_on_resign'] = round(df['age_on_resign'] / np.timedelta64(1, 'Y'), 0)\n",
    "df['age_on_resign'][0:5]"
   ]
  },
  {
   "cell_type": "code",
   "execution_count": 21,
   "metadata": {},
   "outputs": [
    {
     "data": {
      "text/html": [
       "<div>\n",
       "<style scoped>\n",
       "    .dataframe tbody tr th:only-of-type {\n",
       "        vertical-align: middle;\n",
       "    }\n",
       "\n",
       "    .dataframe tbody tr th {\n",
       "        vertical-align: top;\n",
       "    }\n",
       "\n",
       "    .dataframe thead th {\n",
       "        text-align: right;\n",
       "    }\n",
       "</style>\n",
       "<table border=\"1\" class=\"dataframe\">\n",
       "  <thead>\n",
       "    <tr style=\"text-align: right;\">\n",
       "      <th></th>\n",
       "      <th>Status</th>\n",
       "      <th>Name</th>\n",
       "      <th>Gender</th>\n",
       "      <th>Department</th>\n",
       "      <th>Salary (2019)</th>\n",
       "      <th>Salary (2020)</th>\n",
       "      <th>Birth date</th>\n",
       "      <th>Joining Date</th>\n",
       "      <th>Resign Date</th>\n",
       "      <th>Designation</th>\n",
       "      <th>Education Level</th>\n",
       "      <th>Employee Grouping</th>\n",
       "      <th>Nationality</th>\n",
       "      <th>months_in_company</th>\n",
       "      <th>age_on_joining</th>\n",
       "      <th>age_on_resign</th>\n",
       "    </tr>\n",
       "  </thead>\n",
       "  <tbody>\n",
       "    <tr>\n",
       "      <th>0</th>\n",
       "      <td>Resigned</td>\n",
       "      <td>Ches Bonnell</td>\n",
       "      <td>Male</td>\n",
       "      <td>Business Development</td>\n",
       "      <td>88050.0</td>\n",
       "      <td>88050.0</td>\n",
       "      <td>1999-11-18</td>\n",
       "      <td>2017-11-24</td>\n",
       "      <td>2019-06-23</td>\n",
       "      <td>Associate</td>\n",
       "      <td>Degree</td>\n",
       "      <td>Agencies</td>\n",
       "      <td>Singaporean</td>\n",
       "      <td>19.0</td>\n",
       "      <td>18.0</td>\n",
       "      <td>20.0</td>\n",
       "    </tr>\n",
       "    <tr>\n",
       "      <th>1</th>\n",
       "      <td>NaN</td>\n",
       "      <td>Garwin Peasegood</td>\n",
       "      <td>Female</td>\n",
       "      <td>Services</td>\n",
       "      <td>64809.0</td>\n",
       "      <td>68220.0</td>\n",
       "      <td>1969-09-14</td>\n",
       "      <td>2011-06-27</td>\n",
       "      <td>NaT</td>\n",
       "      <td>Associate</td>\n",
       "      <td>Degree</td>\n",
       "      <td>Direct Contract</td>\n",
       "      <td>Singaporean</td>\n",
       "      <td>NaN</td>\n",
       "      <td>42.0</td>\n",
       "      <td>NaN</td>\n",
       "    </tr>\n",
       "    <tr>\n",
       "      <th>2</th>\n",
       "      <td>NaN</td>\n",
       "      <td>Sidoney Yitzhok</td>\n",
       "      <td>Female</td>\n",
       "      <td>Product Management</td>\n",
       "      <td>115479.0</td>\n",
       "      <td>118440.0</td>\n",
       "      <td>2000-10-26</td>\n",
       "      <td>2011-09-20</td>\n",
       "      <td>NaT</td>\n",
       "      <td>Ass. Manager</td>\n",
       "      <td>Master</td>\n",
       "      <td>Direct Contract</td>\n",
       "      <td>Singaporean</td>\n",
       "      <td>NaN</td>\n",
       "      <td>11.0</td>\n",
       "      <td>NaN</td>\n",
       "    </tr>\n",
       "    <tr>\n",
       "      <th>3</th>\n",
       "      <td>NaN</td>\n",
       "      <td>Saunders Blumson</td>\n",
       "      <td>Male</td>\n",
       "      <td>Human Resources</td>\n",
       "      <td>54961.0</td>\n",
       "      <td>56370.0</td>\n",
       "      <td>1974-02-16</td>\n",
       "      <td>2015-12-11</td>\n",
       "      <td>NaT</td>\n",
       "      <td>Director</td>\n",
       "      <td>Diploma</td>\n",
       "      <td>Direct Contract</td>\n",
       "      <td>Singaporean</td>\n",
       "      <td>NaN</td>\n",
       "      <td>42.0</td>\n",
       "      <td>NaN</td>\n",
       "    </tr>\n",
       "    <tr>\n",
       "      <th>4</th>\n",
       "      <td>NaN</td>\n",
       "      <td>Gardy Grigorey</td>\n",
       "      <td>Female</td>\n",
       "      <td>Support</td>\n",
       "      <td>100665.0</td>\n",
       "      <td>107090.0</td>\n",
       "      <td>1981-01-16</td>\n",
       "      <td>2015-08-05</td>\n",
       "      <td>NaT</td>\n",
       "      <td>Director</td>\n",
       "      <td>Diploma</td>\n",
       "      <td>Permanent</td>\n",
       "      <td>Foreigner</td>\n",
       "      <td>NaN</td>\n",
       "      <td>35.0</td>\n",
       "      <td>NaN</td>\n",
       "    </tr>\n",
       "  </tbody>\n",
       "</table>\n",
       "</div>"
      ],
      "text/plain": [
       "     Status              Name  Gender            Department  Salary (2019)  \\\n",
       "0  Resigned      Ches Bonnell    Male  Business Development        88050.0   \n",
       "1       NaN  Garwin Peasegood  Female              Services        64809.0   \n",
       "2       NaN   Sidoney Yitzhok  Female    Product Management       115479.0   \n",
       "3       NaN  Saunders Blumson    Male       Human Resources        54961.0   \n",
       "4       NaN    Gardy Grigorey  Female               Support       100665.0   \n",
       "\n",
       "   Salary (2020) Birth date Joining Date Resign Date   Designation  \\\n",
       "0        88050.0 1999-11-18   2017-11-24  2019-06-23     Associate   \n",
       "1        68220.0 1969-09-14   2011-06-27         NaT     Associate   \n",
       "2       118440.0 2000-10-26   2011-09-20         NaT  Ass. Manager   \n",
       "3        56370.0 1974-02-16   2015-12-11         NaT      Director   \n",
       "4       107090.0 1981-01-16   2015-08-05         NaT      Director   \n",
       "\n",
       "  Education Level Employee Grouping  Nationality  months_in_company  \\\n",
       "0          Degree          Agencies  Singaporean               19.0   \n",
       "1          Degree   Direct Contract  Singaporean                NaN   \n",
       "2          Master   Direct Contract  Singaporean                NaN   \n",
       "3         Diploma   Direct Contract  Singaporean                NaN   \n",
       "4         Diploma         Permanent    Foreigner                NaN   \n",
       "\n",
       "   age_on_joining  age_on_resign  \n",
       "0            18.0           20.0  \n",
       "1            42.0            NaN  \n",
       "2            11.0            NaN  \n",
       "3            42.0            NaN  \n",
       "4            35.0            NaN  "
      ]
     },
     "execution_count": 21,
     "metadata": {},
     "output_type": "execute_result"
    }
   ],
   "source": [
    "df.head()"
   ]
  },
  {
   "cell_type": "markdown",
   "metadata": {},
   "source": [
    "However, we see that the third entry (labelled with the row label 2) indicates that the employee joined the workplace at the age of eleven years old, which seems to be really unusual. Let's check for any suspect entries by filtering out the employees who joined the company at a very young age, say 16 and below."
   ]
  },
  {
   "cell_type": "code",
   "execution_count": 22,
   "metadata": {},
   "outputs": [
    {
     "data": {
      "text/plain": [
       "(30, 16)"
      ]
     },
     "execution_count": 22,
     "metadata": {},
     "output_type": "execute_result"
    }
   ],
   "source": [
    "under_16 = df[df['age_on_joining'] < 16]\n",
    "under_16.shape"
   ]
  },
  {
   "cell_type": "code",
   "execution_count": 23,
   "metadata": {
    "scrolled": true
   },
   "outputs": [
    {
     "data": {
      "text/html": [
       "<div>\n",
       "<style scoped>\n",
       "    .dataframe tbody tr th:only-of-type {\n",
       "        vertical-align: middle;\n",
       "    }\n",
       "\n",
       "    .dataframe tbody tr th {\n",
       "        vertical-align: top;\n",
       "    }\n",
       "\n",
       "    .dataframe thead th {\n",
       "        text-align: right;\n",
       "    }\n",
       "</style>\n",
       "<table border=\"1\" class=\"dataframe\">\n",
       "  <thead>\n",
       "    <tr style=\"text-align: right;\">\n",
       "      <th></th>\n",
       "      <th>Status</th>\n",
       "      <th>Name</th>\n",
       "      <th>Gender</th>\n",
       "      <th>Department</th>\n",
       "      <th>Salary (2019)</th>\n",
       "      <th>Salary (2020)</th>\n",
       "      <th>Birth date</th>\n",
       "      <th>Joining Date</th>\n",
       "      <th>Resign Date</th>\n",
       "      <th>Designation</th>\n",
       "      <th>Education Level</th>\n",
       "      <th>Employee Grouping</th>\n",
       "      <th>Nationality</th>\n",
       "      <th>months_in_company</th>\n",
       "      <th>age_on_joining</th>\n",
       "      <th>age_on_resign</th>\n",
       "    </tr>\n",
       "  </thead>\n",
       "  <tbody>\n",
       "    <tr>\n",
       "      <th>2</th>\n",
       "      <td>NaN</td>\n",
       "      <td>Sidoney Yitzhok</td>\n",
       "      <td>Female</td>\n",
       "      <td>Product Management</td>\n",
       "      <td>115479.0</td>\n",
       "      <td>118440.0</td>\n",
       "      <td>2000-10-26</td>\n",
       "      <td>2011-09-20</td>\n",
       "      <td>NaT</td>\n",
       "      <td>Ass. Manager</td>\n",
       "      <td>Master</td>\n",
       "      <td>Direct Contract</td>\n",
       "      <td>Singaporean</td>\n",
       "      <td>NaN</td>\n",
       "      <td>11.0</td>\n",
       "      <td>NaN</td>\n",
       "    </tr>\n",
       "    <tr>\n",
       "      <th>19</th>\n",
       "      <td>NaN</td>\n",
       "      <td>Elliot Tuplin</td>\n",
       "      <td>Female</td>\n",
       "      <td>Legal</td>\n",
       "      <td>43417.0</td>\n",
       "      <td>44530.0</td>\n",
       "      <td>1999-09-14</td>\n",
       "      <td>2011-11-29</td>\n",
       "      <td>NaT</td>\n",
       "      <td>Associate</td>\n",
       "      <td>PHD</td>\n",
       "      <td>Agencies</td>\n",
       "      <td>PR</td>\n",
       "      <td>NaN</td>\n",
       "      <td>12.0</td>\n",
       "      <td>NaN</td>\n",
       "    </tr>\n",
       "    <tr>\n",
       "      <th>20</th>\n",
       "      <td>NaN</td>\n",
       "      <td>Lion Adcock</td>\n",
       "      <td>Female</td>\n",
       "      <td>Human Resources</td>\n",
       "      <td>60525.0</td>\n",
       "      <td>63710.0</td>\n",
       "      <td>1995-02-26</td>\n",
       "      <td>2010-04-07</td>\n",
       "      <td>NaT</td>\n",
       "      <td>Managing Director</td>\n",
       "      <td>Master</td>\n",
       "      <td>Agencies</td>\n",
       "      <td>Singaporean</td>\n",
       "      <td>NaN</td>\n",
       "      <td>15.0</td>\n",
       "      <td>NaN</td>\n",
       "    </tr>\n",
       "    <tr>\n",
       "      <th>22</th>\n",
       "      <td>Resigned</td>\n",
       "      <td>Tiffani Mecozzi</td>\n",
       "      <td>Female</td>\n",
       "      <td>Support</td>\n",
       "      <td>113763.0</td>\n",
       "      <td>113763.0</td>\n",
       "      <td>2000-10-07</td>\n",
       "      <td>2015-12-28</td>\n",
       "      <td>2019-12-14</td>\n",
       "      <td>Vice President</td>\n",
       "      <td>Master</td>\n",
       "      <td>Agencies</td>\n",
       "      <td>Singaporean</td>\n",
       "      <td>48.0</td>\n",
       "      <td>15.0</td>\n",
       "      <td>19.0</td>\n",
       "    </tr>\n",
       "    <tr>\n",
       "      <th>27</th>\n",
       "      <td>Resigned</td>\n",
       "      <td>Brit Hamnett</td>\n",
       "      <td>Male</td>\n",
       "      <td>Business Development</td>\n",
       "      <td>71763.0</td>\n",
       "      <td>75540.0</td>\n",
       "      <td>1998-09-02</td>\n",
       "      <td>2012-04-19</td>\n",
       "      <td>2017-12-17</td>\n",
       "      <td>Managing Director</td>\n",
       "      <td>Secondary</td>\n",
       "      <td>Agencies</td>\n",
       "      <td>PR</td>\n",
       "      <td>68.0</td>\n",
       "      <td>14.0</td>\n",
       "      <td>19.0</td>\n",
       "    </tr>\n",
       "  </tbody>\n",
       "</table>\n",
       "</div>"
      ],
      "text/plain": [
       "      Status             Name  Gender            Department  Salary (2019)  \\\n",
       "2        NaN  Sidoney Yitzhok  Female    Product Management       115479.0   \n",
       "19       NaN    Elliot Tuplin  Female                 Legal        43417.0   \n",
       "20       NaN      Lion Adcock  Female       Human Resources        60525.0   \n",
       "22  Resigned  Tiffani Mecozzi  Female               Support       113763.0   \n",
       "27  Resigned     Brit Hamnett    Male  Business Development        71763.0   \n",
       "\n",
       "    Salary (2020) Birth date Joining Date Resign Date        Designation  \\\n",
       "2        118440.0 2000-10-26   2011-09-20         NaT       Ass. Manager   \n",
       "19        44530.0 1999-09-14   2011-11-29         NaT          Associate   \n",
       "20        63710.0 1995-02-26   2010-04-07         NaT  Managing Director   \n",
       "22       113763.0 2000-10-07   2015-12-28  2019-12-14     Vice President   \n",
       "27        75540.0 1998-09-02   2012-04-19  2017-12-17  Managing Director   \n",
       "\n",
       "   Education Level Employee Grouping  Nationality  months_in_company  \\\n",
       "2           Master   Direct Contract  Singaporean                NaN   \n",
       "19             PHD          Agencies           PR                NaN   \n",
       "20          Master          Agencies  Singaporean                NaN   \n",
       "22          Master          Agencies  Singaporean               48.0   \n",
       "27       Secondary          Agencies           PR               68.0   \n",
       "\n",
       "    age_on_joining  age_on_resign  \n",
       "2             11.0            NaN  \n",
       "19            12.0            NaN  \n",
       "20            15.0            NaN  \n",
       "22            15.0           19.0  \n",
       "27            14.0           19.0  "
      ]
     },
     "execution_count": 23,
     "metadata": {},
     "output_type": "execute_result"
    }
   ],
   "source": [
    "under_16.head()"
   ]
  },
  {
   "cell_type": "code",
   "execution_count": 24,
   "metadata": {},
   "outputs": [
    {
     "data": {
      "text/html": [
       "<div>\n",
       "<style scoped>\n",
       "    .dataframe tbody tr th:only-of-type {\n",
       "        vertical-align: middle;\n",
       "    }\n",
       "\n",
       "    .dataframe tbody tr th {\n",
       "        vertical-align: top;\n",
       "    }\n",
       "\n",
       "    .dataframe thead th {\n",
       "        text-align: right;\n",
       "    }\n",
       "</style>\n",
       "<table border=\"1\" class=\"dataframe\">\n",
       "  <thead>\n",
       "    <tr style=\"text-align: right;\">\n",
       "      <th></th>\n",
       "      <th>Status</th>\n",
       "      <th>Name</th>\n",
       "      <th>Gender</th>\n",
       "      <th>Department</th>\n",
       "      <th>Salary (2019)</th>\n",
       "      <th>Salary (2020)</th>\n",
       "      <th>Birth date</th>\n",
       "      <th>Joining Date</th>\n",
       "      <th>Resign Date</th>\n",
       "      <th>Designation</th>\n",
       "      <th>Education Level</th>\n",
       "      <th>Employee Grouping</th>\n",
       "      <th>Nationality</th>\n",
       "      <th>months_in_company</th>\n",
       "      <th>age_on_joining</th>\n",
       "      <th>age_on_resign</th>\n",
       "    </tr>\n",
       "  </thead>\n",
       "  <tbody>\n",
       "    <tr>\n",
       "      <th>266</th>\n",
       "      <td>NaN</td>\n",
       "      <td>Andrea Becker</td>\n",
       "      <td>Female</td>\n",
       "      <td>Support</td>\n",
       "      <td>45006.0</td>\n",
       "      <td>46160.0</td>\n",
       "      <td>2001-11-04</td>\n",
       "      <td>2014-10-17</td>\n",
       "      <td>NaT</td>\n",
       "      <td>Manager</td>\n",
       "      <td>Diploma</td>\n",
       "      <td>Permanent</td>\n",
       "      <td>PR</td>\n",
       "      <td>NaN</td>\n",
       "      <td>13.0</td>\n",
       "      <td>NaN</td>\n",
       "    </tr>\n",
       "    <tr>\n",
       "      <th>269</th>\n",
       "      <td>NaN</td>\n",
       "      <td>Carmel Pancoust</td>\n",
       "      <td>Female</td>\n",
       "      <td>Legal</td>\n",
       "      <td>112377.0</td>\n",
       "      <td>119550.0</td>\n",
       "      <td>2000-04-07</td>\n",
       "      <td>2012-11-08</td>\n",
       "      <td>NaT</td>\n",
       "      <td>Ass. Vice President</td>\n",
       "      <td>Diploma</td>\n",
       "      <td>Agencies</td>\n",
       "      <td>Foreigner</td>\n",
       "      <td>NaN</td>\n",
       "      <td>13.0</td>\n",
       "      <td>NaN</td>\n",
       "    </tr>\n",
       "    <tr>\n",
       "      <th>275</th>\n",
       "      <td>NaN</td>\n",
       "      <td>Eddy Stolze</td>\n",
       "      <td>Male</td>\n",
       "      <td>Marketing</td>\n",
       "      <td>44894.0</td>\n",
       "      <td>47760.0</td>\n",
       "      <td>1999-05-04</td>\n",
       "      <td>2013-07-06</td>\n",
       "      <td>NaT</td>\n",
       "      <td>Vice President</td>\n",
       "      <td>Degree</td>\n",
       "      <td>Agencies</td>\n",
       "      <td>Foreigner</td>\n",
       "      <td>NaN</td>\n",
       "      <td>14.0</td>\n",
       "      <td>NaN</td>\n",
       "    </tr>\n",
       "    <tr>\n",
       "      <th>281</th>\n",
       "      <td>Resigned</td>\n",
       "      <td>Jobey Boneham</td>\n",
       "      <td>Female</td>\n",
       "      <td>Accounting</td>\n",
       "      <td>74010.0</td>\n",
       "      <td>74010.0</td>\n",
       "      <td>2000-12-17</td>\n",
       "      <td>2010-06-05</td>\n",
       "      <td>2014-09-06</td>\n",
       "      <td>Managing Director</td>\n",
       "      <td>Master</td>\n",
       "      <td>Permanent</td>\n",
       "      <td>Singaporean</td>\n",
       "      <td>51.0</td>\n",
       "      <td>9.0</td>\n",
       "      <td>14.0</td>\n",
       "    </tr>\n",
       "    <tr>\n",
       "      <th>292</th>\n",
       "      <td>NaN</td>\n",
       "      <td>Grady Rochelle</td>\n",
       "      <td>Female</td>\n",
       "      <td>Training</td>\n",
       "      <td>67431.0</td>\n",
       "      <td>69160.0</td>\n",
       "      <td>2000-02-27</td>\n",
       "      <td>2010-12-08</td>\n",
       "      <td>NaT</td>\n",
       "      <td>Managing Director</td>\n",
       "      <td>Secondary</td>\n",
       "      <td>Permanent</td>\n",
       "      <td>Foreigner</td>\n",
       "      <td>NaN</td>\n",
       "      <td>11.0</td>\n",
       "      <td>NaN</td>\n",
       "    </tr>\n",
       "  </tbody>\n",
       "</table>\n",
       "</div>"
      ],
      "text/plain": [
       "       Status             Name  Gender  Department  Salary (2019)  \\\n",
       "266       NaN    Andrea Becker  Female     Support        45006.0   \n",
       "269       NaN  Carmel Pancoust  Female       Legal       112377.0   \n",
       "275       NaN      Eddy Stolze    Male   Marketing        44894.0   \n",
       "281  Resigned    Jobey Boneham  Female  Accounting        74010.0   \n",
       "292       NaN   Grady Rochelle  Female    Training        67431.0   \n",
       "\n",
       "     Salary (2020) Birth date Joining Date Resign Date          Designation  \\\n",
       "266        46160.0 2001-11-04   2014-10-17         NaT              Manager   \n",
       "269       119550.0 2000-04-07   2012-11-08         NaT  Ass. Vice President   \n",
       "275        47760.0 1999-05-04   2013-07-06         NaT       Vice President   \n",
       "281        74010.0 2000-12-17   2010-06-05  2014-09-06    Managing Director   \n",
       "292        69160.0 2000-02-27   2010-12-08         NaT    Managing Director   \n",
       "\n",
       "    Education Level Employee Grouping  Nationality  months_in_company  \\\n",
       "266         Diploma         Permanent           PR                NaN   \n",
       "269         Diploma          Agencies    Foreigner                NaN   \n",
       "275          Degree          Agencies    Foreigner                NaN   \n",
       "281          Master         Permanent  Singaporean               51.0   \n",
       "292       Secondary         Permanent    Foreigner                NaN   \n",
       "\n",
       "     age_on_joining  age_on_resign  \n",
       "266            13.0            NaN  \n",
       "269            13.0            NaN  \n",
       "275            14.0            NaN  \n",
       "281             9.0           14.0  \n",
       "292            11.0            NaN  "
      ]
     },
     "execution_count": 24,
     "metadata": {},
     "output_type": "execute_result"
    }
   ],
   "source": [
    "under_16.tail()"
   ]
  },
  {
   "cell_type": "code",
   "execution_count": 25,
   "metadata": {},
   "outputs": [
    {
     "data": {
      "text/plain": [
       "0.10033444816053512"
      ]
     },
     "execution_count": 25,
     "metadata": {},
     "output_type": "execute_result"
    }
   ],
   "source": [
    "30/299"
   ]
  },
  {
   "cell_type": "markdown",
   "metadata": {},
   "source": [
    "We see that these 30 rows consist of about 10% of the employees in the company. Given that we have not that many entries (below 300), we could lose a significant amount of data if we choose to remove too many columns. \n",
    "\n",
    "However, according to the [Ministry of Manpower](https://www.mom.gov.sg/employment-practices/young-persons-and-children), young persons aged from 13 to 16 are permitted to work in a non-industrial area (the Human Capital Department is non-industrial), which means that those who are under 13 in this dataset are implied to have worked illegally, which should not be the case. \n",
    "\n",
    "In addition, even some who joined when they were 13 to 16 years of age have a degree or even a master. What we are not sure of is whether their education level recorded when they joined the company, or whether they pursued further education while they were still working. Since several entries reflect this phenomenon (which should be relatively unlikely based on the lives of most Singaporeans), I would make the assumption that the data collected was corrupted.\n",
    "\n",
    "The corrupted data would be difficult to fix, hence I err on the side of caution and would opt to remove entries whose `age_of_joining` is below 16; in addition, 10% of the dataset is not too big a loss."
   ]
  },
  {
   "cell_type": "code",
   "execution_count": 26,
   "metadata": {},
   "outputs": [],
   "source": [
    "df = df[df['age_on_joining'] >= 16]"
   ]
  },
  {
   "cell_type": "code",
   "execution_count": 27,
   "metadata": {},
   "outputs": [
    {
     "data": {
      "text/plain": [
       "(269, 16)"
      ]
     },
     "execution_count": 27,
     "metadata": {},
     "output_type": "execute_result"
    }
   ],
   "source": [
    "df.shape"
   ]
  },
  {
   "cell_type": "markdown",
   "metadata": {},
   "source": [
    "For further data cleaning purposes, we should check if any of the entries have an incorrect `months_in_company` / `age_on_joining` / `age_on_resign` entry (e.g. negative values)."
   ]
  },
  {
   "cell_type": "code",
   "execution_count": 28,
   "metadata": {},
   "outputs": [
    {
     "data": {
      "text/plain": [
       "(2, 16)"
      ]
     },
     "execution_count": 28,
     "metadata": {},
     "output_type": "execute_result"
    }
   ],
   "source": [
    "df[df['months_in_company'] < 0].shape"
   ]
  },
  {
   "cell_type": "code",
   "execution_count": 29,
   "metadata": {},
   "outputs": [
    {
     "data": {
      "text/plain": [
       "(0, 16)"
      ]
     },
     "execution_count": 29,
     "metadata": {},
     "output_type": "execute_result"
    }
   ],
   "source": [
    "df[df['age_on_joining'] < 0].shape"
   ]
  },
  {
   "cell_type": "code",
   "execution_count": 30,
   "metadata": {},
   "outputs": [
    {
     "data": {
      "text/plain": [
       "(0, 16)"
      ]
     },
     "execution_count": 30,
     "metadata": {},
     "output_type": "execute_result"
    }
   ],
   "source": [
    "\"\"\"\n",
    "Logically, the age of joining should occur before the age of resignation (though not always in this dataset).\n",
    "If we remove those who joined below 16, those who resigned are unlikely to be below 16.\n",
    "But we shouldn't need to further filter those who resign before 16 because we also check if\n",
    "there are any negative entries in the 'months_in_company' column, and we have already removed those who joined below 16.\n",
    "\n",
    "\"\"\"\n",
    "\n",
    "df[df['age_on_resign'] < 0].shape"
   ]
  },
  {
   "cell_type": "markdown",
   "metadata": {},
   "source": [
    "We observe that there are 2 entries with a resign date that is before the date they join the company. We cannot do much about the corrupted data, so we should remove these 2 entries as well."
   ]
  },
  {
   "cell_type": "code",
   "execution_count": 31,
   "metadata": {},
   "outputs": [],
   "source": [
    "df = df[(df['months_in_company'] >= 0) | (df['months_in_company'].isnull())]"
   ]
  },
  {
   "cell_type": "code",
   "execution_count": 32,
   "metadata": {},
   "outputs": [
    {
     "data": {
      "text/html": [
       "<div>\n",
       "<style scoped>\n",
       "    .dataframe tbody tr th:only-of-type {\n",
       "        vertical-align: middle;\n",
       "    }\n",
       "\n",
       "    .dataframe tbody tr th {\n",
       "        vertical-align: top;\n",
       "    }\n",
       "\n",
       "    .dataframe thead th {\n",
       "        text-align: right;\n",
       "    }\n",
       "</style>\n",
       "<table border=\"1\" class=\"dataframe\">\n",
       "  <thead>\n",
       "    <tr style=\"text-align: right;\">\n",
       "      <th></th>\n",
       "      <th>Salary (2019)</th>\n",
       "      <th>Salary (2020)</th>\n",
       "      <th>months_in_company</th>\n",
       "      <th>age_on_joining</th>\n",
       "      <th>age_on_resign</th>\n",
       "    </tr>\n",
       "  </thead>\n",
       "  <tbody>\n",
       "    <tr>\n",
       "      <th>count</th>\n",
       "      <td>267.000000</td>\n",
       "      <td>267.000000</td>\n",
       "      <td>26.000000</td>\n",
       "      <td>267.000000</td>\n",
       "      <td>26.000000</td>\n",
       "    </tr>\n",
       "    <tr>\n",
       "      <th>mean</th>\n",
       "      <td>75628.284644</td>\n",
       "      <td>78495.737828</td>\n",
       "      <td>35.500000</td>\n",
       "      <td>31.966292</td>\n",
       "      <td>34.307692</td>\n",
       "    </tr>\n",
       "    <tr>\n",
       "      <th>std</th>\n",
       "      <td>37671.961571</td>\n",
       "      <td>38697.907226</td>\n",
       "      <td>26.327552</td>\n",
       "      <td>8.942317</td>\n",
       "      <td>9.120391</td>\n",
       "    </tr>\n",
       "    <tr>\n",
       "      <th>min</th>\n",
       "      <td>27056.000000</td>\n",
       "      <td>28330.000000</td>\n",
       "      <td>4.000000</td>\n",
       "      <td>16.000000</td>\n",
       "      <td>20.000000</td>\n",
       "    </tr>\n",
       "    <tr>\n",
       "      <th>25%</th>\n",
       "      <td>50324.500000</td>\n",
       "      <td>52305.000000</td>\n",
       "      <td>16.000000</td>\n",
       "      <td>25.000000</td>\n",
       "      <td>27.000000</td>\n",
       "    </tr>\n",
       "    <tr>\n",
       "      <th>50%</th>\n",
       "      <td>73827.000000</td>\n",
       "      <td>76226.000000</td>\n",
       "      <td>32.000000</td>\n",
       "      <td>32.000000</td>\n",
       "      <td>34.000000</td>\n",
       "    </tr>\n",
       "    <tr>\n",
       "      <th>75%</th>\n",
       "      <td>96367.000000</td>\n",
       "      <td>99575.000000</td>\n",
       "      <td>50.750000</td>\n",
       "      <td>39.500000</td>\n",
       "      <td>42.750000</td>\n",
       "    </tr>\n",
       "    <tr>\n",
       "      <th>max</th>\n",
       "      <td>420128.000000</td>\n",
       "      <td>430900.000000</td>\n",
       "      <td>94.000000</td>\n",
       "      <td>53.000000</td>\n",
       "      <td>49.000000</td>\n",
       "    </tr>\n",
       "  </tbody>\n",
       "</table>\n",
       "</div>"
      ],
      "text/plain": [
       "       Salary (2019)  Salary (2020)  months_in_company  age_on_joining  \\\n",
       "count     267.000000     267.000000          26.000000      267.000000   \n",
       "mean    75628.284644   78495.737828          35.500000       31.966292   \n",
       "std     37671.961571   38697.907226          26.327552        8.942317   \n",
       "min     27056.000000   28330.000000           4.000000       16.000000   \n",
       "25%     50324.500000   52305.000000          16.000000       25.000000   \n",
       "50%     73827.000000   76226.000000          32.000000       32.000000   \n",
       "75%     96367.000000   99575.000000          50.750000       39.500000   \n",
       "max    420128.000000  430900.000000          94.000000       53.000000   \n",
       "\n",
       "       age_on_resign  \n",
       "count      26.000000  \n",
       "mean       34.307692  \n",
       "std         9.120391  \n",
       "min        20.000000  \n",
       "25%        27.000000  \n",
       "50%        34.000000  \n",
       "75%        42.750000  \n",
       "max        49.000000  "
      ]
     },
     "execution_count": 32,
     "metadata": {},
     "output_type": "execute_result"
    }
   ],
   "source": [
    "df.describe()"
   ]
  },
  {
   "cell_type": "code",
   "execution_count": 33,
   "metadata": {},
   "outputs": [
    {
     "name": "stdout",
     "output_type": "stream",
     "text": [
      "<class 'pandas.core.frame.DataFrame'>\n",
      "Int64Index: 267 entries, 0 to 298\n",
      "Data columns (total 16 columns):\n",
      " #   Column             Non-Null Count  Dtype         \n",
      "---  ------             --------------  -----         \n",
      " 0   Status             33 non-null     object        \n",
      " 1   Name               267 non-null    object        \n",
      " 2   Gender             267 non-null    object        \n",
      " 3   Department         267 non-null    object        \n",
      " 4   Salary (2019)      267 non-null    float64       \n",
      " 5   Salary (2020)      267 non-null    float64       \n",
      " 6   Birth date         267 non-null    datetime64[ns]\n",
      " 7   Joining Date       267 non-null    datetime64[ns]\n",
      " 8   Resign Date        26 non-null     datetime64[ns]\n",
      " 9   Designation        267 non-null    object        \n",
      " 10  Education Level    267 non-null    object        \n",
      " 11  Employee Grouping  267 non-null    object        \n",
      " 12  Nationality        267 non-null    object        \n",
      " 13  months_in_company  26 non-null     float64       \n",
      " 14  age_on_joining     267 non-null    float64       \n",
      " 15  age_on_resign      26 non-null     float64       \n",
      "dtypes: datetime64[ns](3), float64(5), object(8)\n",
      "memory usage: 35.5+ KB\n"
     ]
    }
   ],
   "source": [
    "df.info()"
   ]
  },
  {
   "cell_type": "markdown",
   "metadata": {},
   "source": [
    "<a id='eda_dataviz'></a>\n",
    "\n",
    "### Exploratory Data Analysis and Data Visualisation\n",
    "\n",
    "Examples of insights which might benefit us would be those that might help to reduce the employee resignation rate in this company.\n",
    "A high employee retention rate would mean less disruption to the Human Capital Department, and also indicates a likely healthier work environment. \n",
    "\n",
    "We can start off by asking some surface level questions which might help:\n",
    "\n",
    "1. Is there anything in common among those who resigned / are resigning? \n",
    "2. Is there any particular `Department` with a high resignation rate / count?\n",
    "\n",
    "It also might help to benefit the Human Capital Department if we discover insights that might help to build a more inclusive environment.\n",
    "\n",
    "1. Is there a large disparity of salary by any variables such as `Gender` / `Nationality` / `Employee Grouping`?\n",
    "\n",
    "#### Analysis of Resignations in Company"
   ]
  },
  {
   "cell_type": "code",
   "execution_count": 34,
   "metadata": {},
   "outputs": [
    {
     "data": {
      "text/plain": [
       "Index(['Status', 'Name', 'Gender', 'Department', 'Salary (2019)',\n",
       "       'Salary (2020)', 'Birth date', 'Joining Date', 'Resign Date',\n",
       "       'Designation', 'Education Level', 'Employee Grouping', 'Nationality',\n",
       "       'months_in_company', 'age_on_joining', 'age_on_resign'],\n",
       "      dtype='object')"
      ]
     },
     "execution_count": 34,
     "metadata": {},
     "output_type": "execute_result"
    }
   ],
   "source": [
    "df.columns"
   ]
  },
  {
   "cell_type": "markdown",
   "metadata": {},
   "source": [
    "Before we start, we notice that who are resigning (but have not resigned yet) do not have a date of resignation, which would mean the number of months they worked in the company is unknown. For simplicity, we can set their dates to a recent one, e.g. 19 July 2020, and find a good approximation of the months worked.\n",
    "\n",
    "The above should be a safe assumption because at the very least, they should resign by 2020."
   ]
  },
  {
   "cell_type": "code",
   "execution_count": 35,
   "metadata": {},
   "outputs": [
    {
     "data": {
      "text/plain": [
       "(33, 16)"
      ]
     },
     "execution_count": 35,
     "metadata": {},
     "output_type": "execute_result"
    }
   ],
   "source": [
    "# employees who have resigned / are resigning\n",
    "resigns = df[df['Status'].notnull()]\n",
    "resigns.shape"
   ]
  },
  {
   "cell_type": "code",
   "execution_count": 36,
   "metadata": {},
   "outputs": [],
   "source": [
    "resigns['Resign Date'] = resigns['Resign Date'].fillna(datetime.datetime(2020, 7, 19))"
   ]
  },
  {
   "cell_type": "code",
   "execution_count": 37,
   "metadata": {},
   "outputs": [
    {
     "data": {
      "text/plain": [
       "0     20.0\n",
       "10    34.0\n",
       "11    46.0\n",
       "14    34.0\n",
       "15    27.0\n",
       "Name: age_on_resign, dtype: float64"
      ]
     },
     "execution_count": 37,
     "metadata": {},
     "output_type": "execute_result"
    }
   ],
   "source": [
    "resigns['age_on_resign'] = resigns['Resign Date'] - resigns['Birth date']\n",
    "resigns['age_on_resign'] = round(resigns['age_on_resign'] / np.timedelta64(1, 'Y'), 0)\n",
    "resigns['age_on_resign'][0:5]"
   ]
  },
  {
   "cell_type": "code",
   "execution_count": 38,
   "metadata": {},
   "outputs": [
    {
     "data": {
      "text/plain": [
       "0     19.0\n",
       "10    16.0\n",
       "11    29.0\n",
       "14    36.0\n",
       "15    54.0\n",
       "Name: months_in_company, dtype: float64"
      ]
     },
     "execution_count": 38,
     "metadata": {},
     "output_type": "execute_result"
    }
   ],
   "source": [
    "resigns['months_in_company'] = resigns['Resign Date'] - resigns['Joining Date']\n",
    "resigns['months_in_company'] = round(resigns['months_in_company'] / np.timedelta64(1, 'M'), 0)\n",
    "resigns['months_in_company'][0:5]"
   ]
  },
  {
   "cell_type": "code",
   "execution_count": 39,
   "metadata": {},
   "outputs": [
    {
     "name": "stdout",
     "output_type": "stream",
     "text": [
      "2013-05-06 00:00:00\n",
      "2020-07-19 00:00:00\n"
     ]
    }
   ],
   "source": [
    "print(resigns['Resign Date'].min())\n",
    "print(resigns['Resign Date'].max())"
   ]
  },
  {
   "cell_type": "code",
   "execution_count": 40,
   "metadata": {},
   "outputs": [
    {
     "data": {
      "text/plain": [
       "0     2019\n",
       "10    2020\n",
       "11    2019\n",
       "14    2019\n",
       "15    2019\n",
       "Name: resign_year, dtype: int64"
      ]
     },
     "execution_count": 40,
     "metadata": {},
     "output_type": "execute_result"
    }
   ],
   "source": [
    "resigns['resign_year'] = resigns['Resign Date'].apply(lambda x: x.year)\n",
    "resigns['resign_year'].head()"
   ]
  },
  {
   "cell_type": "code",
   "execution_count": 41,
   "metadata": {},
   "outputs": [
    {
     "data": {
      "text/plain": [
       "resign_year\n",
       "2013    1\n",
       "2014    1\n",
       "2015    4\n",
       "2016    2\n",
       "2017    4\n",
       "2018    3\n",
       "2019    9\n",
       "2020    9\n",
       "Name: resign_year, dtype: int64"
      ]
     },
     "execution_count": 41,
     "metadata": {},
     "output_type": "execute_result"
    }
   ],
   "source": [
    "resign_by_year = resigns.groupby('resign_year')\n",
    "resign_by_year = resign_by_year['resign_year'].count()\n",
    "resign_by_year"
   ]
  },
  {
   "cell_type": "code",
   "execution_count": 42,
   "metadata": {},
   "outputs": [
    {
     "data": {
      "text/plain": [
       "Text(0, 0.5, 'Number of Resignations')"
      ]
     },
     "execution_count": 42,
     "metadata": {},
     "output_type": "execute_result"
    },
    {
     "data": {
      "image/png": "[encoded data removed]",
      "text/plain": [
       "<Figure size 432x288 with 1 Axes>"
      ]
     },
     "metadata": {
      "needs_background": "light"
     },
     "output_type": "display_data"
    }
   ],
   "source": [
    "# create figure and axis\n",
    "fig, ax = plt.subplots()\n",
    "resign_by_year_2 = resigns['resign_year'].value_counts()\n",
    "\n",
    "# get x and y data\n",
    "year = resign_by_year_2.index\n",
    "num_resigns_year = resign_by_year_2.values\n",
    "\n",
    "# create bar chart\n",
    "ax.bar(year, num_resigns_year)\n",
    "\n",
    "# set titles and labels\n",
    "ax.set_title('Number of Resignations Per Year')\n",
    "ax.set_xlabel('Year')\n",
    "ax.set_ylabel('Number of Resignations')"
   ]
  },
  {
   "cell_type": "code",
   "execution_count": 43,
   "metadata": {},
   "outputs": [
    {
     "data": {
      "image/png": "[encoded data removed]",
      "text/plain": [
       "<Figure size 864x144 with 3 Axes>"
      ]
     },
     "metadata": {
      "needs_background": "light"
     },
     "output_type": "display_data"
    },
    {
     "data": {
      "image/png": "[encoded data removed]",
      "text/plain": [
       "<Figure size 864x144 with 3 Axes>"
      ]
     },
     "metadata": {
      "needs_background": "light"
     },
     "output_type": "display_data"
    },
    {
     "data": {
      "image/png": "[encoded data removed]",
      "text/plain": [
       "<Figure size 864x576 with 12 Axes>"
      ]
     },
     "metadata": {
      "needs_background": "light"
     },
     "output_type": "display_data"
    },
    {
     "data": {
      "image/png": "[encoded data removed]",
      "text/plain": [
       "<Figure size 864x144 with 2 Axes>"
      ]
     },
     "metadata": {
      "needs_background": "light"
     },
     "output_type": "display_data"
    },
    {
     "data": {
      "image/png": "[encoded data removed]",
      "text/plain": [
       "<Figure size 864x288 with 5 Axes>"
      ]
     },
     "metadata": {
      "needs_background": "light"
     },
     "output_type": "display_data"
    }
   ],
   "source": [
    "features = ['Employee Grouping', 'Nationality', 'Department', 'Gender', 'Education Level']\n",
    "count = 1\n",
    "\n",
    "# plots number of resigned for each feature\n",
    "for feature in features:\n",
    "    g = sns.catplot(x = 'resign_year', col = feature, data = resigns, color = 'C' + str(count), kind='count', col_wrap= 3, aspect= 2, height = 2)\n",
    "    g.set_axis_labels(\"Year\", \"Number of Resignations\")\n",
    "    g.fig.suptitle('Number of Resignations by ' + feature, y=1.1)\n",
    "    count += 1"
   ]
  },
  {
   "cell_type": "markdown",
   "metadata": {},
   "source": [
    "We know that as long as the company's environment is good, the `Education Level` or the `Employee Grouping` of each employee is unlikely to affect whether they would resign. \n",
    "\n",
    "While it might be possible for discriminatory practices (by `Gender` or `Nationality`) to influence whether one resigns, at a surface glance, there does not seem to be significantly more resignations in any particular party. Usually, the `Department` culture and its practices (or the company's) can be a significant contributing factor of one's resignation.\n",
    "\n",
    "However, we should also take into account the number of months each employee worked in the company, instead of only the number of resignations by department. A small median `months_in_company` value is a possible indication that employees might not find enough incentives to work in the company for longer (though there are other reasons such as finding better job opportunities elsewhere).\n",
    "\n",
    "Let's examine the `Gender`, `Nationality` and `Department` features a little deeper."
   ]
  },
  {
   "cell_type": "code",
   "execution_count": 44,
   "metadata": {},
   "outputs": [
    {
     "data": {
      "image/png": "[encoded data removed]",
      "text/plain": [
       "<Figure size 864x432 with 1 Axes>"
      ]
     },
     "metadata": {
      "needs_background": "light"
     },
     "output_type": "display_data"
    },
    {
     "data": {
      "image/png": "[encoded data removed]",
      "text/plain": [
       "<Figure size 864x432 with 1 Axes>"
      ]
     },
     "metadata": {
      "needs_background": "light"
     },
     "output_type": "display_data"
    },
    {
     "data": {
      "image/png": "[encoded data removed]",
      "text/plain": [
       "<Figure size 864x432 with 1 Axes>"
      ]
     },
     "metadata": {
      "needs_background": "light"
     },
     "output_type": "display_data"
    }
   ],
   "source": [
    "features_close = ['Department', 'Gender', 'Nationality']\n",
    "\n",
    "for feature in features_close:\n",
    "    fig = plt.figure(figsize=(12,6))\n",
    "    ax = fig.gca()\n",
    "    ax = sns.boxplot(data = resigns, y= resigns[feature], x= resigns['months_in_company'])\n",
    "    \n",
    "    ax.set_title('Months worked in company before resignation\\n')\n",
    "    ax.set_xlabel('Months in Company')\n",
    "    plt.show()"
   ]
  },
  {
   "cell_type": "markdown",
   "metadata": {},
   "source": [
    "There does not seem to be a significant difference in the median number of months by `Gender`, but there are noticeable differences in the `Department` and `Nationality` features. \n",
    "\n",
    "For instance, going by `Department`, almost every employee who resigned from the *Legal* department worked less than 40 months in the company, compared to other departments whose median is more than 40 months.\n",
    "\n",
    "In addition, looking at `Nationality`, Singaporeans seem to stay a significantly shorter amount of time in the company compared to PRs and Foreigners.\n",
    "\n",
    "##### Analysis by Department"
   ]
  },
  {
   "cell_type": "code",
   "execution_count": 45,
   "metadata": {},
   "outputs": [
    {
     "data": {
      "text/plain": [
       "array(['Business Development', 'Services', 'Human Resources', 'Support',\n",
       "       'Training', 'Research and Development', 'Engineering',\n",
       "       'Accounting', 'Marketing', 'Legal', 'Sales', 'Product Management'],\n",
       "      dtype=object)"
      ]
     },
     "execution_count": 45,
     "metadata": {},
     "output_type": "execute_result"
    }
   ],
   "source": [
    "# df is used instead of resigns, in case there are any departments which do not have resignations\n",
    "df['Department'].unique()"
   ]
  },
  {
   "cell_type": "code",
   "execution_count": 46,
   "metadata": {},
   "outputs": [
    {
     "data": {
      "text/plain": [
       "Legal                       8\n",
       "Human Resources             4\n",
       "Marketing                   3\n",
       "Sales                       3\n",
       "Engineering                 3\n",
       "Business Development        3\n",
       "Support                     2\n",
       "Research and Development    2\n",
       "Training                    2\n",
       "Product Management          1\n",
       "Services                    1\n",
       "Accounting                  1\n",
       "Name: Department, dtype: int64"
      ]
     },
     "execution_count": 46,
     "metadata": {},
     "output_type": "execute_result"
    }
   ],
   "source": [
    "resigns['Department'].value_counts()"
   ]
  },
  {
   "cell_type": "markdown",
   "metadata": {},
   "source": [
    "Though some departments have more resignations than others, we should compare this to how many employees were in each department (including those already resigned / are resigning) to have a better idea of the turnover rates in each department.\n",
    "\n",
    "For instance, if 8 out of 1,000 total hired within a department resign, it should not be too alarming, but if it were 10 out of 15, this might be an indication of a high turnover."
   ]
  },
  {
   "cell_type": "code",
   "execution_count": 47,
   "metadata": {},
   "outputs": [
    {
     "data": {
      "text/plain": [
       "Legal                       29\n",
       "Engineering                 27\n",
       "Sales                       27\n",
       "Marketing                   27\n",
       "Services                    27\n",
       "Human Resources             23\n",
       "Support                     22\n",
       "Accounting                  19\n",
       "Training                    19\n",
       "Business Development        17\n",
       "Research and Development    15\n",
       "Product Management          15\n",
       "Name: Department, dtype: int64"
      ]
     },
     "execution_count": 47,
     "metadata": {},
     "output_type": "execute_result"
    }
   ],
   "source": [
    "df['Department'].value_counts()"
   ]
  },
  {
   "cell_type": "code",
   "execution_count": 48,
   "metadata": {},
   "outputs": [
    {
     "data": {
      "text/plain": [
       "Legal                       27.59\n",
       "Business Development        17.65\n",
       "Human Resources             17.39\n",
       "Research and Development    13.33\n",
       "Sales                       11.11\n",
       "Marketing                   11.11\n",
       "Engineering                 11.11\n",
       "Training                    10.53\n",
       "Support                      9.09\n",
       "Product Management           6.67\n",
       "Accounting                   5.26\n",
       "Services                     3.70\n",
       "Name: Department, dtype: float64"
      ]
     },
     "execution_count": 48,
     "metadata": {},
     "output_type": "execute_result"
    }
   ],
   "source": [
    "# percentage of resignations from each department\n",
    "resigned_perc = round(resigns['Department'].value_counts() * 100 / df['Department'].value_counts(), 2)\n",
    "resigned_perc.sort_values(ascending=False)"
   ]
  },
  {
   "cell_type": "markdown",
   "metadata": {},
   "source": [
    "Looking at the percentage of resignations from each department, initial thoughts that come to mind would be that the *Legal*, *Business Development* and *Human Resources* departments should be of concern, particularly since the *Legal* department since the median number of months an employee stayed was below 40.\n",
    "\n",
    "However, as mentioned earlier, there are many factors to one's resignation; examples include personal circumstances, pay, job scope (depending on the `Designation`), and better job opportunities. In addition, since the dataset that we used has a small size, we should also be careful of immediately concluding that the other departments are \"better\" than the *Legal* department. \n",
    "\n",
    "Still, one should still not neglect both the lower stay period and the higher turnover rate in the *Legal* department relative to other departments; it might be worth investigating further.\n",
    "\n",
    "One possible reason could be because of the pay they might be receiving, but this can be easily reviewed by plotting a boxplot that shows the `Salary (2020)` of each department."
   ]
  },
  {
   "cell_type": "code",
   "execution_count": 49,
   "metadata": {},
   "outputs": [
    {
     "data": {
      "image/png": "[encoded data removed]",
      "text/plain": [
       "<Figure size 864x432 with 1 Axes>"
      ]
     },
     "metadata": {
      "needs_background": "light"
     },
     "output_type": "display_data"
    }
   ],
   "source": [
    "fig = plt.figure(figsize=(12,6))\n",
    "ax = fig.gca()\n",
    "ax = sns.boxplot(data = resigns, y= resigns['Department'], x= resigns['Salary (2020)'])\n",
    "    \n",
    "ax.set_title('Salary of Employee Before Resignation\\n')\n",
    "ax.set_xlabel('Annual Salary (2020)')\n",
    "plt.show()"
   ]
  },
  {
   "cell_type": "markdown",
   "metadata": {},
   "source": [
    "However, it does not seem as if the employees in the *Legal* department is receiving \"low\" pay, relative to other departments. The company should hence examine the implemented policies / incentives within the department or gather feedback from its employees. \n",
    "\n",
    "##### Analysis by Nationality"
   ]
  },
  {
   "cell_type": "code",
   "execution_count": 50,
   "metadata": {},
   "outputs": [
    {
     "data": {
      "text/plain": [
       "Foreigner      12\n",
       "Singaporean    11\n",
       "PR             10\n",
       "Name: Nationality, dtype: int64"
      ]
     },
     "execution_count": 50,
     "metadata": {},
     "output_type": "execute_result"
    }
   ],
   "source": [
    "resigns['Nationality'].value_counts()"
   ]
  },
  {
   "cell_type": "code",
   "execution_count": 51,
   "metadata": {},
   "outputs": [
    {
     "data": {
      "text/plain": [
       "Singaporean    98\n",
       "PR             86\n",
       "Foreigner      83\n",
       "Name: Nationality, dtype: int64"
      ]
     },
     "execution_count": 51,
     "metadata": {},
     "output_type": "execute_result"
    }
   ],
   "source": [
    "df['Nationality'].value_counts()"
   ]
  },
  {
   "cell_type": "code",
   "execution_count": 52,
   "metadata": {},
   "outputs": [
    {
     "data": {
      "text/plain": [
       "Foreigner      14.46\n",
       "PR             11.63\n",
       "Singaporean    11.22\n",
       "Name: Nationality, dtype: float64"
      ]
     },
     "execution_count": 52,
     "metadata": {},
     "output_type": "execute_result"
    }
   ],
   "source": [
    "# percentage of resignations from each nationality\n",
    "resigned_perc = round(resigns['Nationality'].value_counts() * 100 / df['Nationality'].value_counts(), 2)\n",
    "resigned_perc.sort_values(ascending=False)"
   ]
  },
  {
   "cell_type": "markdown",
   "metadata": {},
   "source": [
    "Despite our previous observation of how Singaporeans tend to stay for a shorter period of time relative to employees of other nationalities, the number of resignations from employees of each nationality is near the same. In addition, the proportion of those who resigned against the total hired is not much different as well, unlike the earlier analysis by `Department`."
   ]
  },
  {
   "cell_type": "code",
   "execution_count": 53,
   "metadata": {},
   "outputs": [
    {
     "data": {
      "image/png": "[encoded data removed]",
      "text/plain": [
       "<Figure size 864x432 with 1 Axes>"
      ]
     },
     "metadata": {
      "needs_background": "light"
     },
     "output_type": "display_data"
    }
   ],
   "source": [
    "fig = plt.figure(figsize=(12,6))\n",
    "ax = fig.gca()\n",
    "ax = sns.boxplot(data = resigns, y= resigns['Nationality'], x= resigns['Salary (2020)'])\n",
    "    \n",
    "ax.set_title('Months worked in company before resignation\\n')\n",
    "ax.set_xlabel('Annual Salary (2020)')\n",
    "plt.show()"
   ]
  },
  {
   "cell_type": "markdown",
   "metadata": {},
   "source": [
    "From this boxplot, although the Annual Salary (2020) of Singaporeans seem to be relatively \"stable\" based on the 25th percentile and the 75th percentile (the two ends of the box), those who resigned seem to stay for a shorter period of time compared to those with a PR or Foreigner nationality.\n",
    "\n",
    "This could possibly be because of better job opportunities that some PRs or Foreigners might not have access to, therefore the company should review the incentives they offer to Singaporeans if they would like to retain local manpower. The company could also consider doing the same for PRs / Foreigners as well to retain manpower as a whole."
   ]
  },
  {
   "cell_type": "markdown",
   "metadata": {},
   "source": [
    "##### Analysis by Gender"
   ]
  },
  {
   "cell_type": "code",
   "execution_count": 54,
   "metadata": {},
   "outputs": [
    {
     "data": {
      "image/png": "[encoded data removed]",
      "text/plain": [
       "<Figure size 864x432 with 1 Axes>"
      ]
     },
     "metadata": {
      "needs_background": "light"
     },
     "output_type": "display_data"
    }
   ],
   "source": [
    "fig = plt.figure(figsize=(12,6))\n",
    "ax = fig.gca()\n",
    "ax = sns.boxplot(data = resigns, y= resigns['Gender'], x= resigns['Salary (2020)'])\n",
    "    \n",
    "ax.set_title('Months worked in company before resignation\\n')\n",
    "ax.set_xlabel('Annual Salary (2020)')\n",
    "plt.show()"
   ]
  },
  {
   "cell_type": "markdown",
   "metadata": {},
   "source": [
    "There is no significant difference in wages by gender; in addition, as observed by the earlier bar chart, the number of males and females who resigned are approximately equal. Therefore, there doesn't seem to be any gender issues within the company. "
   ]
  },
  {
   "cell_type": "markdown",
   "metadata": {},
   "source": [
    "##### Analysis by Age of Resignation\n",
    "\n",
    "We would like to determine if there is something in common among those who resigned; possible reasons could include them having a lower salary or having a younger age (meaning more job opportunities / chances to take risks)."
   ]
  },
  {
   "cell_type": "code",
   "execution_count": 55,
   "metadata": {},
   "outputs": [
    {
     "data": {
      "text/plain": [
       "(array([13.,  9., 11.]),\n",
       " array([20.        , 29.66666667, 39.33333333, 49.        ]),\n",
       " <a list of 3 Patch objects>)"
      ]
     },
     "execution_count": 55,
     "metadata": {},
     "output_type": "execute_result"
    },
    {
     "data": {
      "image/png": "[encoded data removed]",
      "text/plain": [
       "<Figure size 432x288 with 1 Axes>"
      ]
     },
     "metadata": {
      "needs_background": "light"
     },
     "output_type": "display_data"
    }
   ],
   "source": [
    "# histogram which shows the number of resignations by age group\n",
    "plt.hist(resigns['age_on_resign'], bins=3)"
   ]
  },
  {
   "cell_type": "markdown",
   "metadata": {},
   "source": [
    "Contrary to what was initially expected, though there are slightly more young people who resigned, the number of people from each of the other age ranges (30-39, 40-49) are not too far off either. \n",
    "\n",
    "* 20 to 29: 13 resignations\n",
    "* 30 to 39: 9 resignations\n",
    "* 40 to 49: 11 resignations\n",
    "\n",
    "This means that better job opportunities might not be that significant of a reason for the younger employees leaving (though better job opportunities as Singaporean citizens might be a different story). Therefore, it might be a good idea to review the company's culture and practices as a whole to reduce the number of resignations."
   ]
  },
  {
   "cell_type": "markdown",
   "metadata": {},
   "source": [
    "<a id='conclusion'></a>\n",
    "\n",
    "### Conclusion"
   ]
  },
  {
   "cell_type": "markdown",
   "metadata": {},
   "source": [
    "Based on the above analysis, the top 3 insights could possibly be:\n",
    "\n",
    "1. It does not seem that there are any discriminatory practices within the company (e.g. in terms of `Gender` or `Nationality`, based on salary or the number of each respective category in the company). To reduce the number of resignations from all age groups, the company's cultures / practices / policies should be reviewed. \n",
    "\n",
    "2. The *Legal* `Department` in particular should be paid more attention to: the number of months the employees remain in the department is significantly shorter relative to the other departments, and the number of resignations are higher (though this information should be considered carefully as the dataset is small).\n",
    "\n",
    "3. Singaporeans tend to have a much shorter stay in the company compared to PRs / Foreigners. Therefore, the company should review its policies / incentives to encourage them to continue to stay; it might be possible that the Singaporeans are being swayed by better job opportunities being offered which might not be as accessible to PRs / Foreigners."
   ]
  }
 ],
 "metadata": {
  "kernelspec": {
   "display_name": "Python 3",
   "language": "python",
   "name": "python3"
  },
  "language_info": {
   "codemirror_mode": {
    "name": "ipython",
    "version": 3
   },
   "file_extension": ".py",
   "mimetype": "text/x-python",
   "name": "python",
   "nbconvert_exporter": "python",
   "pygments_lexer": "ipython3",
   "version": "3.7.6"
  }
 },
 "nbformat": 4,
 "nbformat_minor": 4
}
